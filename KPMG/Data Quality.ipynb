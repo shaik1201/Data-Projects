{
 "cells": [
  {
   "cell_type": "markdown",
   "id": "7e06418d-e0cf-4e29-82ae-c28617498ae1",
   "metadata": {
    "tags": []
   },
   "source": [
    "# **VIRTUAL INTERNSHIP EXPERIENCE - KPMG**\n",
    "---"
   ]
  },
  {
   "cell_type": "markdown",
   "id": "10a5faa5-f378-4c0b-a82b-c9ab1221533e",
   "metadata": {},
   "source": [
    "## Task 1 - Data Quality Assesment"
   ]
  },
  {
   "cell_type": "markdown",
   "id": "239576cc-0d2e-4ff9-a348-e5a6ff9763cd",
   "metadata": {},
   "source": [
    "📑 **Objective** :\n",
    "- Preliminary data exploration and identify ways to improve the quality of Sprocket Central Pty Ltd’s data.\n",
    "- The 3 datasets attached from Sprocket Central Pty Ltd:\n",
    "    - Customer Demographic \n",
    "    - Customer Addresses\n",
    "    - Transaction data in the past three months"
   ]
  },
  {
   "cell_type": "markdown",
   "id": "67ac55a5-44ca-4e3a-8672-7175289b1632",
   "metadata": {},
   "source": [
    "<br>\n",
    "<br>"
   ]
  },
  {
   "cell_type": "markdown",
   "id": "f34f2f6d-fd8f-4ae8-b335-89eace352967",
   "metadata": {},
   "source": [
    "# **Load Dataset**\n",
    "---"
   ]
  },
  {
   "cell_type": "code",
   "execution_count": 1,
   "id": "dcb38139-95b3-4cd2-bad5-9e29f2d3ba58",
   "metadata": {},
   "outputs": [],
   "source": [
    "# import dataset\n",
    "import pandas as pd \n",
    "import numpy as np\n",
    "import seaborn as sns\n",
    "import matplotlib.pyplot as plt \n",
    "%matplotlib inline\n",
    "import warnings\n",
    "warnings.filterwarnings(\"ignore\")"
   ]
  },
  {
   "cell_type": "markdown",
   "id": "43b1929f-11bc-4db9-bc74-7bac5c858ddc",
   "metadata": {},
   "source": [
    "I have **seperated the worksheets** in the Excelsheet into different CSV files as **Transaction**, **CustomerAddress**, and **CustomerDemography**."
   ]
  },
  {
   "cell_type": "code",
   "execution_count": 2,
   "id": "d715faaf-7566-4d95-b1d1-d01a3a106d24",
   "metadata": {},
   "outputs": [],
   "source": [
    "# read data set\n",
    "df_demo = pd.read_csv('CustomerDemographic.csv')\n",
    "df_addr = pd.read_csv('CustomerAddress.csv')\n",
    "df_tran = pd.read_csv('Transaction.csv')"
   ]
  },
  {
   "cell_type": "markdown",
   "id": "ac3a4068-a2d9-4edc-9094-3f19e975cbea",
   "metadata": {},
   "source": [
    "<br>\n",
    "<br>"
   ]
  },
  {
   "cell_type": "markdown",
   "id": "2d592124-08bf-46bf-a10a-dd95fe79dfbd",
   "metadata": {},
   "source": [
    "# **Customer Demographic**\n",
    "---"
   ]
  },
  {
   "cell_type": "markdown",
   "id": "f9047d96-72a6-4be2-9513-10713a97e3be",
   "metadata": {},
   "source": [
    "### **1. Exploratory Data Analysis**"
   ]
  },
  {
   "cell_type": "markdown",
   "id": "31f66de3-69ee-41e7-a1f6-66f54f93eaf8",
   "metadata": {},
   "source": [
    "#### 1.1. Checking Data Type and Unique Values"
   ]
  },
  {
   "cell_type": "code",
   "execution_count": 3,
   "id": "9bd3e961-b78e-4f06-87be-60be24bd84d4",
   "metadata": {},
   "outputs": [
    {
     "data": {
      "text/html": [
       "<div>\n",
       "<style scoped>\n",
       "    .dataframe tbody tr th:only-of-type {\n",
       "        vertical-align: middle;\n",
       "    }\n",
       "\n",
       "    .dataframe tbody tr th {\n",
       "        vertical-align: top;\n",
       "    }\n",
       "\n",
       "    .dataframe thead th {\n",
       "        text-align: right;\n",
       "    }\n",
       "</style>\n",
       "<table border=\"1\" class=\"dataframe\">\n",
       "  <thead>\n",
       "    <tr style=\"text-align: right;\">\n",
       "      <th></th>\n",
       "      <th>customer_id</th>\n",
       "      <th>first_name</th>\n",
       "      <th>last_name</th>\n",
       "      <th>gender</th>\n",
       "      <th>past_3_years_bike_related_purchases</th>\n",
       "      <th>DOB</th>\n",
       "      <th>job_title</th>\n",
       "      <th>job_industry_category</th>\n",
       "      <th>wealth_segment</th>\n",
       "      <th>deceased_indicator</th>\n",
       "      <th>default</th>\n",
       "      <th>owns_car</th>\n",
       "      <th>tenure</th>\n",
       "    </tr>\n",
       "  </thead>\n",
       "  <tbody>\n",
       "    <tr>\n",
       "      <th>634</th>\n",
       "      <td>635</td>\n",
       "      <td>Joelle</td>\n",
       "      <td>Prior</td>\n",
       "      <td>Female</td>\n",
       "      <td>78</td>\n",
       "      <td>1976-09-25</td>\n",
       "      <td>Programmer Analyst IV</td>\n",
       "      <td>NaN</td>\n",
       "      <td>Mass Customer</td>\n",
       "      <td>N</td>\n",
       "      <td>0/0</td>\n",
       "      <td>Yes</td>\n",
       "      <td>9.0</td>\n",
       "    </tr>\n",
       "    <tr>\n",
       "      <th>3175</th>\n",
       "      <td>3176</td>\n",
       "      <td>Rafe</td>\n",
       "      <td>Antoniak</td>\n",
       "      <td>Male</td>\n",
       "      <td>60</td>\n",
       "      <td>1977-12-04</td>\n",
       "      <td>Physical Therapy Assistant</td>\n",
       "      <td>NaN</td>\n",
       "      <td>Affluent Customer</td>\n",
       "      <td>N</td>\n",
       "      <td>â«testâ«</td>\n",
       "      <td>No</td>\n",
       "      <td>16.0</td>\n",
       "    </tr>\n",
       "    <tr>\n",
       "      <th>2794</th>\n",
       "      <td>2795</td>\n",
       "      <td>Shirline</td>\n",
       "      <td>Amar</td>\n",
       "      <td>Female</td>\n",
       "      <td>9</td>\n",
       "      <td>1966-04-11</td>\n",
       "      <td>Research Assistant III</td>\n",
       "      <td>Financial Services</td>\n",
       "      <td>Mass Customer</td>\n",
       "      <td>N</td>\n",
       "      <td>__ï¾(,_,*)</td>\n",
       "      <td>No</td>\n",
       "      <td>17.0</td>\n",
       "    </tr>\n",
       "    <tr>\n",
       "      <th>3369</th>\n",
       "      <td>3370</td>\n",
       "      <td>Brant</td>\n",
       "      <td>Follis</td>\n",
       "      <td>Male</td>\n",
       "      <td>8</td>\n",
       "      <td>1954-01-22</td>\n",
       "      <td>Data Coordiator</td>\n",
       "      <td>NaN</td>\n",
       "      <td>High Net Worth</td>\n",
       "      <td>N</td>\n",
       "      <td>ÃÃÃÃËÃÃï£¿ÃÃÃâ</td>\n",
       "      <td>Yes</td>\n",
       "      <td>5.0</td>\n",
       "    </tr>\n",
       "    <tr>\n",
       "      <th>1348</th>\n",
       "      <td>1349</td>\n",
       "      <td>Curran</td>\n",
       "      <td>Gush</td>\n",
       "      <td>Male</td>\n",
       "      <td>83</td>\n",
       "      <td>1997-05-07</td>\n",
       "      <td>Electrical Engineer</td>\n",
       "      <td>Manufacturing</td>\n",
       "      <td>Affluent Customer</td>\n",
       "      <td>N</td>\n",
       "      <td>ÃÃÃÃËÃÃï£¿ÃÃÃâ</td>\n",
       "      <td>No</td>\n",
       "      <td>1.0</td>\n",
       "    </tr>\n",
       "  </tbody>\n",
       "</table>\n",
       "</div>"
      ],
      "text/plain": [
       "      customer_id first_name last_name  gender  \\\n",
       "634           635     Joelle     Prior  Female   \n",
       "3175         3176       Rafe  Antoniak    Male   \n",
       "2794         2795   Shirline      Amar  Female   \n",
       "3369         3370      Brant    Follis    Male   \n",
       "1348         1349     Curran      Gush    Male   \n",
       "\n",
       "      past_3_years_bike_related_purchases         DOB  \\\n",
       "634                                    78  1976-09-25   \n",
       "3175                                   60  1977-12-04   \n",
       "2794                                    9  1966-04-11   \n",
       "3369                                    8  1954-01-22   \n",
       "1348                                   83  1997-05-07   \n",
       "\n",
       "                       job_title job_industry_category     wealth_segment  \\\n",
       "634        Programmer Analyst IV                   NaN      Mass Customer   \n",
       "3175  Physical Therapy Assistant                   NaN  Affluent Customer   \n",
       "2794      Research Assistant III    Financial Services      Mass Customer   \n",
       "3369             Data Coordiator                   NaN     High Net Worth   \n",
       "1348         Electrical Engineer         Manufacturing  Affluent Customer   \n",
       "\n",
       "     deceased_indicator         default owns_car  tenure  \n",
       "634                   N             0/0      Yes     9.0  \n",
       "3175                  N        â«testâ«       No    16.0  \n",
       "2794                  N      __ï¾(,_,*)       No    17.0  \n",
       "3369                  N  ÃÃÃÃËÃÃï£¿ÃÃÃâ      Yes     5.0  \n",
       "1348                  N  ÃÃÃÃËÃÃï£¿ÃÃÃâ       No     1.0  "
      ]
     },
     "execution_count": 3,
     "metadata": {},
     "output_type": "execute_result"
    }
   ],
   "source": [
    "# sampling dataset\n",
    "df_demo.sample(5)"
   ]
  },
  {
   "cell_type": "code",
   "execution_count": 4,
   "id": "47e5003a-756b-457c-9ada-fb64f621c3fb",
   "metadata": {},
   "outputs": [
    {
     "data": {
      "text/plain": [
       "(4000, 13)"
      ]
     },
     "execution_count": 4,
     "metadata": {},
     "output_type": "execute_result"
    }
   ],
   "source": [
    "# checking shape\n",
    "df_demo.shape"
   ]
  },
  {
   "cell_type": "code",
   "execution_count": 5,
   "id": "2153db83-fc66-482d-8814-0b709dd68bdc",
   "metadata": {},
   "outputs": [
    {
     "name": "stdout",
     "output_type": "stream",
     "text": [
      "<class 'pandas.core.frame.DataFrame'>\n",
      "RangeIndex: 4000 entries, 0 to 3999\n",
      "Data columns (total 13 columns):\n",
      " #   Column                               Non-Null Count  Dtype  \n",
      "---  ------                               --------------  -----  \n",
      " 0   customer_id                          4000 non-null   int64  \n",
      " 1   first_name                           4000 non-null   object \n",
      " 2   last_name                            3875 non-null   object \n",
      " 3   gender                               4000 non-null   object \n",
      " 4   past_3_years_bike_related_purchases  4000 non-null   int64  \n",
      " 5   DOB                                  3913 non-null   object \n",
      " 6   job_title                            3494 non-null   object \n",
      " 7   job_industry_category                3344 non-null   object \n",
      " 8   wealth_segment                       4000 non-null   object \n",
      " 9   deceased_indicator                   4000 non-null   object \n",
      " 10  default                              3698 non-null   object \n",
      " 11  owns_car                             4000 non-null   object \n",
      " 12  tenure                               3913 non-null   float64\n",
      "dtypes: float64(1), int64(2), object(10)\n",
      "memory usage: 406.4+ KB\n"
     ]
    }
   ],
   "source": [
    "# checking dataset info\n",
    "df_demo.info()"
   ]
  },
  {
   "cell_type": "code",
   "execution_count": 6,
   "id": "eb69cd7c-385d-4b57-9243-8851035d7285",
   "metadata": {},
   "outputs": [
    {
     "name": "stdout",
     "output_type": "stream",
     "text": [
      "customer_id have 4000 unique values: int64\n",
      "customer_id values: [   1    2    3 ... 3998 3999 4000]\n",
      "\n",
      "first_name have 3139 unique values: object\n",
      "first_name values: ['Laraine' 'Eli' 'Arlin' ... 'Stephie' 'Rusty' 'Sarene']\n",
      "\n",
      "last_name have 3725 unique values: object\n",
      "last_name values: ['Medendorp' 'Bockman' 'Dearle' ... 'Halgarth' 'Woolley' 'Oldland']\n",
      "\n",
      "gender have 6 unique values: object\n",
      "gender values: ['F' 'Male' 'Female' 'U' 'Femal' 'M']\n",
      "\n",
      "past_3_years_bike_related_purchases have 100 unique values: int64\n",
      "past_3_years_bike_related_purchases values: [93 81 61 33 56 35  6 31 97 49 99 58 38 85 91 57 79 76 72 74 43 55 12 37\n",
      "  5 62 18  3 17 44 59 40 46 64 24 63 98 51 68 22  2 48 87 26 60 47 73 21\n",
      " 67 16 78 30 94 28 20 11  1 75 41 69 19 80 83 25 54  4 23 65 88 10 77  9\n",
      " 82 27 53 32 34 71 36 90 95  8 39  7 42 13 45 50 14 89 84 96 70 66  0 15\n",
      " 86 92 29 52]\n",
      "\n",
      "DOB have 3448 unique values: object\n",
      "DOB values: ['1953-10-12' '1980-12-16' '1954-01-20' ... '1975-12-12' '2001-07-13'\n",
      " '1991-11-05']\n",
      "\n",
      "job_title have 195 unique values: object\n",
      "job_title values: ['Executive Secretary' 'Administrative Officer' 'Recruiting Manager' nan\n",
      " 'Senior Editor' 'Media Manager I' 'Business Systems Development Analyst'\n",
      " 'Senior Quality Engineer' 'Nuclear Power Engineer' 'Developer I'\n",
      " 'Account Executive' 'Junior Executive' 'Media Manager IV'\n",
      " 'Sales Associate' 'Professor' 'Geological Engineer' 'Project Manager'\n",
      " 'Safety Technician I' 'Research Assistant I' 'Accounting Assistant III'\n",
      " 'Editor' 'Research Nurse' 'Safety Technician III' 'Staff Accountant III'\n",
      " 'Legal Assistant' 'Product Engineer' 'Information Systems Manager'\n",
      " 'VP Quality Control' 'Social Worker' 'Senior Cost Accountant'\n",
      " 'Assistant Media Planner' 'Payment Adjustment Coordinator' 'Food Chemist'\n",
      " 'Accountant III' 'Director of Sales' 'Senior Financial Analyst'\n",
      " 'Registered Nurse' 'Biostatistician II' 'Computer Systems Analyst II'\n",
      " 'Software Test Engineer II' 'Paralegal' 'VP Sales'\n",
      " 'Chief Design Engineer' 'Office Assistant III'\n",
      " 'Physical Therapy Assistant' 'Help Desk Operator' 'Web Developer II'\n",
      " 'Research Associate' 'Teacher' 'VP Product Management' 'Statistician II'\n",
      " 'Automation Specialist IV' 'Data Coordiator' 'Software Test Engineer III'\n",
      " 'Internal Auditor' 'Analyst Programmer' 'Occupational Therapist'\n",
      " 'Speech Pathologist' 'Quality Control Specialist' 'Civil Engineer'\n",
      " 'Software Engineer III' 'Community Outreach Specialist'\n",
      " 'Safety Technician IV' 'VP Accounting' 'General Manager'\n",
      " 'Nurse Practicioner' 'Automation Specialist II' 'Marketing Assistant'\n",
      " 'Marketing Manager' 'Staff Scientist' 'Assistant Professor'\n",
      " 'Budget/Accounting Analyst IV' 'Associate Professor' 'Graphic Designer'\n",
      " 'Administrative Assistant II' 'Compensation Analyst'\n",
      " 'Systems Administrator III' 'Financial Advisor' 'Chemical Engineer'\n",
      " 'Web Designer I' 'Senior Developer' 'Office Assistant II' 'Recruiter'\n",
      " 'Operator' 'Programmer Analyst III' 'Quality Engineer'\n",
      " 'Environmental Tech' 'Analog Circuit Design manager' 'Cost Accountant'\n",
      " 'Librarian' 'Structural Analysis Engineer' 'Pharmacist'\n",
      " 'Assistant Manager' 'Accountant I' 'Web Designer III' 'Geologist III'\n",
      " 'Software Test Engineer I' 'Structural Engineer' 'Safety Technician II'\n",
      " 'Web Developer III' 'Programmer Analyst II' 'Design Engineer'\n",
      " 'Statistician I' 'VP Marketing' 'Desktop Support Technician' 'Actuary'\n",
      " 'Database Administrator III' 'Electrical Engineer' 'Tax Accountant'\n",
      " 'Clinical Specialist' 'Database Administrator IV'\n",
      " 'Systems Administrator II' 'Account Coordinator' 'Programmer III'\n",
      " 'Administrative Assistant III' 'Nurse' 'Technical Writer'\n",
      " 'Staff Accountant II' 'Dental Hygienist' 'Sales Representative'\n",
      " 'Budget/Accounting Analyst III' 'Computer Systems Analyst IV'\n",
      " 'Geologist I' 'Financial Analyst' 'Accounting Assistant II'\n",
      " 'Senior Sales Associate' 'Database Administrator II' 'Engineer I'\n",
      " 'Budget/Accounting Analyst I' 'Developer IV' 'Database Administrator I'\n",
      " 'Environmental Specialist' 'Computer Systems Analyst I'\n",
      " 'Account Representative IV' 'Statistician IV' 'Human Resources Manager'\n",
      " 'GIS Technical Architect' 'Programmer IV' 'Accounting Assistant IV'\n",
      " 'Software Engineer IV' 'Programmer II' 'Engineer III'\n",
      " 'Software Consultant' 'Biostatistician IV' 'Help Desk Technician'\n",
      " 'Automation Specialist I' 'Developer III' 'Human Resources Assistant I'\n",
      " 'Geologist IV' 'Media Manager II' 'Statistician III' 'Engineer II'\n",
      " 'Health Coach II' 'Developer II' 'Systems Administrator I'\n",
      " 'Web Developer I' 'Software Engineer II' 'Accounting Assistant I'\n",
      " 'Research Assistant II' 'Programmer Analyst IV' 'Health Coach I'\n",
      " 'Accountant II' 'Automation Specialist III' 'Administrative Assistant I'\n",
      " 'Health Coach IV' 'Media Manager III' 'Account Representative III'\n",
      " 'Web Designer IV' 'Budget/Accounting Analyst II' 'Web Developer IV'\n",
      " 'Programmer I' 'Biostatistician III' 'Software Test Engineer IV'\n",
      " 'Research Assistant IV' 'Account Representative I' 'Accountant IV'\n",
      " 'Biostatistician I' 'Human Resources Assistant IV'\n",
      " 'Administrative Assistant IV' 'Office Assistant I'\n",
      " 'Human Resources Assistant II' 'Mechanical Systems Engineer'\n",
      " 'Engineer IV' 'Health Coach III' 'Office Assistant IV'\n",
      " 'Software Engineer I' 'Human Resources Assistant III'\n",
      " 'Staff Accountant I' 'Computer Systems Analyst III' 'Geologist II'\n",
      " 'Web Designer II' 'Staff Accountant IV' 'Account Representative II'\n",
      " 'Programmer Analyst I' 'Systems Administrator IV'\n",
      " 'Research Assistant III']\n",
      "\n",
      "job_industry_category have 9 unique values: object\n",
      "job_industry_category values: ['Health' 'Financial Services' 'Property' 'IT' nan 'Retail' 'Argiculture'\n",
      " 'Manufacturing' 'Telecommunications' 'Entertainment']\n",
      "\n",
      "wealth_segment have 3 unique values: object\n",
      "wealth_segment values: ['Mass Customer' 'Affluent Customer' 'High Net Worth']\n",
      "\n",
      "deceased_indicator have 2 unique values: object\n",
      "deceased_indicator values: ['N' 'Y']\n",
      "\n",
      "default have 101 unique values: object\n",
      "default values: ['\"\\'' \"<script>alert('hi')</script>\" '1-Feb'\n",
      " '() { _; } >_[$($())] { touch /tmp/blns.shellshock2.fail; }' 'NIL'\n",
      " 'ðµ ð ð ð' 'â°â´âµâââ' '(â¯Â°â¡Â°ï¼â¯ï¸µ â»ââ»)' '0/0' 'ð©ð½'\n",
      " 'ÅâÂ´Â®â\\xa0Â¥Â¨ËÃ¸Ïââ' 'nil' '-1.00E+02' 'â°â´âµ' 'ð' '1.00E+96'\n",
      " 'ï¾ï½¥â¿ã¾â²(ï½¡ââ¿âï½¡)â±â¿ï½¥ï¾' 'Î©âÃ§ââ«ËÂµâ¤â¥Ã·' 'ÅâÂ´â°ËÃÂ¨ËÃâââ'\n",
      " 'ï¼ï¼ï¼' '../../../../../../../../../../../etc/hosts'\n",
      " '×Ö¸×Ö°×ªÖ¸×testØ§ÙØµÙØ\\xadØ§Øª Ø§ÙØªÙØ\\xadÙÙ' '<>?:\"{}|_+' '\\'\\'\\'\\'\"'\n",
      " \",./;'[]\\\\-=\" '() { 0; }; touch /tmp/blns.shellshock1.fail;'\n",
      " 'ì¬íê³¼íì ì´íì°êµ¬ì' 'testâ\\xa0testâ«'\n",
      " '0ï¸â£ 1ï¸â£ 2ï¸â£ 3ï¸â£ 4ï¸â£ 5ï¸â£ 6ï¸â£ 7ï¸â£ 8ï¸â£ 9ï¸â£ ð' nan\n",
      " '!@#$%^&*()' \"'\"\n",
      " 'Ì¦HÍÌ¬Ì¤ÌÌ¤eÍ ÍÌÌ¥ÌÌ»ÍÌwÌhÌÌ¯ÍoÌÍÌÍÌ±Ì® ÒÌºÌÌÌÍWÌ·Ì¼Ì\\xadaÌºÌªÍiÌ¨ÍÍÌ\\xadÍÌ¯ÌtÌ¶Ì¼Ì®sÌÌÍÍ Ì\\xa0Ì«Ì\\xa0BÌ»ÍÍÍÍÌ³eÌµhÌµÌ¬ÍÌ«ÍiÌÌ¹ÍÌ³Ì³Ì®ÍÌ«nÍdÌ´ÌªÌÌ ÍÌ°ÍÌ©ÍÍÍÌ²TÍ¢ÍÌ¼ÍÌªhÍÍÌ®Ì»eÌ¬ÌÍÌ Ì¤Ì¹ÌWÍÍÍÌÌÍÍaÍÍÍÌ¹Ì¼'\n",
      " '../../../../../../../../../../../etc/passwd%00' 'åè£½æ¼¢èª'\n",
      " '`ââ¬â¹âºï¬ï¬â¡Â°Â·ââÂ±' 'ãã¼ãã£ã¼ã¸è¡ããªãã' '1.00E+00' '-0.5'\n",
      " 'ZÌ®ÌÍÌ\\xa0ÍÍAÌ¥ÌÌÍÌ»ÌLÌ£ÍÍÌ¯Ì¹ÌÍGÌ»OÌ\\xadÌÌ®' 'ã' '1.00E+02'\n",
      " '1;DROP TABLE users' '-$1.00' 'á' '-1' '(ï¾à²¥çà²¥ï¼ï¾ï»¿ â»ââ»' '00ËÆ$-'\n",
      " '1/0' 'ï½ï½¨(Â´âï½â©' \"<svg><script>0<1>alert('XSS')</script>\" '$1.00'\n",
      " 'âââ' 'ã»(ï¿£âï¿£)ã»:*:' ',ãã»:*:ã»ãâ( â» Ï â» )ãã»:*:ã»ãâ' 'â¢'\n",
      " 'ç°ä¸\\xadããã«ããã¦ä¸ãã' '1' '__ï¾(,_,*)' 'Ù¡Ù¢Ù£'\n",
      " 'Ø«Ù ÙÙØ³ Ø³ÙØ·Øª ÙØ¨Ø§ÙØªØ\\xadØ¯ÙØ¯Ø, Ø¬Ø²ÙØ±ØªÙ Ø¨Ø§Ø³ØªØ®Ø¯Ø§Ù Ø£Ù Ø¯ÙÙ. Ø¥Ø° ÙÙØ§Ø Ø§ÙØ³ØªØ§Ø± ÙØªÙØµÙØ¨ ÙØ§Ù. Ø£ÙÙÙ Ø§ÙØ·Ø§ÙÙØ§Ø Ø¨Ø±ÙØ·Ø§ÙÙØ§-ÙØ±ÙØ³Ø§ ÙØ¯ Ø£Ø®Ø°. Ø³ÙÙÙØ§ÙØ Ø¥ØªÙØ§ÙÙØ© Ø¨ÙÙ ÙØ§, ÙØ°ÙØ± Ø'\n",
      " 'ð¾ ð ð ð ð ð ð ð§' \"<img src=x onerror=alert('hi') />\"\n",
      " 'ã½à¼¼àºÙÍàºà¼½ï¾ ã½à¼¼àºÙÍàºà¼½ï¾' 'âð¿ ðªð¿ ðð¿ ðð¿ ðð¿ ðð¿'\n",
      " 'TÌÌ\\xadÌºÌºoÍ Ì·iÌ²Ì¬ÍÌªÍnÌÌÍvÍÌÌÌÌ¦oÌ¶ÌÌ°Ì\\xa0keÍÍÌ®ÌºÌªÌ¹Ì±Ì¤ ÌtÍÌÍÌ³Ì£Ì»ÌªhÌ¼ÍÌ²Ì¦Ì³ÌÌ²eÍÌ£Ì°Ì¦Ì¬Í Ì¢Ì¼Ì»Ì±ÌhÍÍÍÍÌÌ£Ì²iÌ¦Ì²Ì£Ì°Ì¤vÌ»ÍeÌºÌ\\xadÌ³ÌªÌ°-mÌ¢iÍnÌÌºÌÌ²Ì¯Ì°dÌµÌ¼ÌÍÌ©Ì¼ÌÌ³ ÌÌ¥Ì±Ì³Ì\\xadrÌÌÌeÍpÍ\\xa0rÌ¼ÌÌ»Ì\\xadÌeÍÌºÌ\\xa0Ì£sÌ'\n",
      " 'ÃÃÃÃËÃÃï£¿ÃÃÃâ' '(ï½¡â â âï½¡)' 'é¨è½æ\\xa0¼'\n",
      " \"ËÉnbá´lÉ ÉuÆÉÉ¯ ÇÉ¹olop ÊÇ ÇÉ¹oqÉl Ên Êunpá´pá´Éuá´ É¹odÉ¯ÇÊ poÉ¯sná´Ç op pÇs 'Êá´lÇ Æuá´Ésá´dá´pÉ É¹nÊÇÊÉÇsuoÉ 'ÊÇÉ¯É Êá´s É¹olop É¯nsdá´ É¯ÇÉ¹oË¥\"\n",
      " 'á\\xa0'\n",
      " '×Ö¼Ö°×¨Öµ××©×Ö´××ª, ×Ö¼Ö¸×¨Ö¸× ×Ö±×Ö¹×Ö´××, ×Öµ×ª ×Ö·×©Ö¼×Ö¸×Ö·×Ö´×, ×Ö°×Öµ×ª ×Ö¸×Ö¸×¨Ö¶×¥'\n",
      " 'Â¡â¢Â£Â¢âÂ§Â¶â¢ÂªÂºââ\\xa0' '/dev/null; touch /tmp/blns.fail ; echo'\n",
      " \"1'; DROP TABLE users--\" 'ð¾ ð ð ð ð ð ð ð'\n",
      " 'Ì¡ÍÍÌIÍÌÌÌ¦nÍÍÍvÌ®Ì«okÌ²Ì«ÌÍiÌÍÌ\\xadÌ¹Ì\\xa0ÌnÌ¡Ì»Ì®Ì£ÌºgÌ²ÍÍÌ\\xadÍÌ¬Í Ì°tÍÌ¦hÌÌ²eÌ¢Ì¤ ÍÌ¬Ì²ÍfÌ´ÌÍÌ£eÍÍeÌ£Ì¥Ì©lÍÍÍiÍ\\xa0ÍÍÌ¦nÍÍÌÍÌ³Ì®gÍ Ì¨oÍ¡ÍÌªfÌÌ£Ì¬ ÌÌÍÌÍÌ®cÒÍÌ«ÍÍÍÍÍhÌµÌ¤Ì£ÍÍaÍÌÌ¼ÍÍoÌ¼Ì£Ì¥sÍ¢Ì±ÍÌºÌÌ¦Ì».ÌÌ'\n",
      " 'â' 'Â¸ËÃâÄ±ËÃÂ¯ËÂ¿' 'ì¸ëë°í\\xa0ë¥´'\n",
      " 'ÌÌºÍÌ¹Ì¯ÍTÌ±Ì¤ÍÌ¥ÍÍhÍÌ²eÍÍÌ¼ÌÌÌ¼Ì£Í ÍÌÌ±Ì\\xa0ÍÍÍNÍ\\xa0ÍeÌÌ±zÌÌÌÌºÍpÌ¤ÌºÌ¹ÍÌ¯ÍeÍÌ\\xa0Ì»Ì\\xa0rÌ¨Ì¤ÍÌºÌÍÌÌdÍÌ\\xa0ÌÌ\\xadÌ¬ÌiÌ¦ÍÌ©ÍÍÌ¤aÌ\\xa0ÌÌ¬ÍÌnÍÍ Ì»ÌÌ°ÍÍhÌµÍiÌ³ÌvÌ¢ÍeÍÌ\\xadÍ-ÒÌ\\xadÌ©Ì¼ÍmÌ¤Ì\\xadÌ«iÍÍÌÌ¦nÌÍdÌ£Ì ÍÌ¯Ì²ÍoÌ¨ÌÌ¯Ì°Ì²'\n",
      " '0' 'â©testâ©' 'â£' 'Ã¥ÃâÆÂ©ËâËÂ¬â¦Ã¦' 'ç¤¾æç§å\\xad¸é¢èªå\\xad¸ç\\xa0ç©¶æ'\n",
      " 'âªâªtestâª' 'ï»¿' 'â¤ï¸ ð ð ð ð ð ð ð ð ð ð ð ð ð ð' 'â«testâ«'\n",
      " 'â¦testâ§' '\\'\"\\'\\'\\'\\'\"' 'â¡'\n",
      " 'ð\\xa0ð\\xa0±ð\\xa0¹ð\\xa0±ð\\xa0±¸ð\\xa0²ð\\xa0³' '-1.00E+00' '-$100.00'\n",
      " '$1,000,000,000,000,000,000,000,000,000,000,000,000,000,000,000,000,000,000,000,000,000,000,000,000,000,000,000,000,000,000,000,000.00'\n",
      " '-5.00E-01' '$0.00' '$100.00' '0.00E+00' '-$0.50']\n",
      "\n",
      "owns_car have 2 unique values: object\n",
      "owns_car values: ['Yes' 'No']\n",
      "\n",
      "tenure have 22 unique values: float64\n",
      "tenure values: [11. 16. 15.  7.  8. 13. 20.  9.  6.  1. 18. 21. 12. 19. 14.  4. 22.  5.\n",
      " 17.  2.  3. 10. nan]\n",
      "\n"
     ]
    }
   ],
   "source": [
    "# Checking unique value from each columns\n",
    "for col in df_demo.columns:\n",
    "    print(\"{} have {} unique values: {}\".format(col, df_demo[col].nunique(), df_demo[col].dtypes))\n",
    "    if df_demo[col].dtypes == 'int64' or df_demo[col].dtypes == 'float' or df_demo[col].dtypes == 'object':\n",
    "        print(\"{} values: {}\".format(col,df_demo[col].unique()))\n",
    "        print('')"
   ]
  },
  {
   "cell_type": "code",
   "execution_count": 7,
   "id": "054ba9a7-f6e6-4cf7-acbc-faefea8a43db",
   "metadata": {},
   "outputs": [
    {
     "name": "stdout",
     "output_type": "stream",
     "text": [
      "['customer_id', 'past_3_years_bike_related_purchases', 'tenure']\n",
      "Counts : 3\n"
     ]
    }
   ],
   "source": [
    "# numerical data\n",
    "nums = df_demo.loc[:, (df_demo.dtypes == 'int64') | (df_demo.dtypes == float)].columns.tolist()\n",
    "print(nums)\n",
    "print('Counts :', len(nums))"
   ]
  },
  {
   "cell_type": "code",
   "execution_count": 8,
   "id": "a6a11c4b-dcce-4f0a-b871-428fa0e6031d",
   "metadata": {},
   "outputs": [
    {
     "name": "stdout",
     "output_type": "stream",
     "text": [
      "['first_name', 'last_name', 'gender', 'DOB', 'job_title', 'job_industry_category', 'wealth_segment', 'deceased_indicator', 'default', 'owns_car']\n",
      "Counts : 10\n"
     ]
    }
   ],
   "source": [
    "# categorical data\n",
    "cats = df_demo.loc[:, (df_demo.dtypes == object)].columns.tolist() \n",
    "print(cats)\n",
    "print('Counts :', len(cats))"
   ]
  },
  {
   "cell_type": "markdown",
   "id": "d2ad83d1-ded3-491f-9f85-16ce6895a2d2",
   "metadata": {},
   "source": [
    "🔎 **Observation :**\n",
    "- The dataset consists of **4000 records** and **26 columns**, with **3 numerical** and **10 categorical** columns.\n",
    "- The inappropriate dataset type is found in the **DOB** column which should be **DateTime**. The value in this column can be converted to **age/age_class** so that it can be more insightful.\n",
    "- The **tenure** column should be an integer \n",
    "- There are **irrelevant** columns that need to be dropped, such as **default**.\n",
    "- There are **inconsistent value** in the **gender** column, so it needs to be treated.\n",
    "- **deceased_indicator** and **owns_car values** column are suggested be **Boolean**. The value **'Y'** in **deceased_indicator** are **not current** customers and recomended to deleted these records because we want only live customers.\n"
   ]
  },
  {
   "cell_type": "markdown",
   "id": "7a5a77fc-e06c-4ca7-bf52-7ea8e54b8e73",
   "metadata": {},
   "source": [
    "#### 1.2. Checking Missing Values"
   ]
  },
  {
   "cell_type": "code",
   "execution_count": 9,
   "id": "b08a3f4e-640e-442b-a27d-20c783e478a6",
   "metadata": {},
   "outputs": [
    {
     "name": "stdout",
     "output_type": "stream",
     "text": [
      "Percentages missing value of dataset : 34.25 %\n"
     ]
    }
   ],
   "source": [
    "# percentages missing value of dataset\n",
    "nan_df = df_demo[df_demo.isna().any(axis=1)]\n",
    "nan_percent = round(len(nan_df)/len(df_demo)*100, 2)\n",
    "print('Percentages missing value of dataset :', nan_percent, '%')"
   ]
  },
  {
   "cell_type": "code",
   "execution_count": 10,
   "id": "e216c579-217b-42ae-843f-38f03da270d8",
   "metadata": {},
   "outputs": [
    {
     "data": {
      "text/html": [
       "<div>\n",
       "<style scoped>\n",
       "    .dataframe tbody tr th:only-of-type {\n",
       "        vertical-align: middle;\n",
       "    }\n",
       "\n",
       "    .dataframe tbody tr th {\n",
       "        vertical-align: top;\n",
       "    }\n",
       "\n",
       "    .dataframe thead th {\n",
       "        text-align: right;\n",
       "    }\n",
       "</style>\n",
       "<table border=\"1\" class=\"dataframe\">\n",
       "  <thead>\n",
       "    <tr style=\"text-align: right;\">\n",
       "      <th></th>\n",
       "      <th>missing value counts</th>\n",
       "      <th>%</th>\n",
       "    </tr>\n",
       "  </thead>\n",
       "  <tbody>\n",
       "    <tr>\n",
       "      <th>job_industry_category</th>\n",
       "      <td>656</td>\n",
       "      <td>16.40</td>\n",
       "    </tr>\n",
       "    <tr>\n",
       "      <th>job_title</th>\n",
       "      <td>506</td>\n",
       "      <td>12.65</td>\n",
       "    </tr>\n",
       "    <tr>\n",
       "      <th>default</th>\n",
       "      <td>302</td>\n",
       "      <td>7.55</td>\n",
       "    </tr>\n",
       "    <tr>\n",
       "      <th>last_name</th>\n",
       "      <td>125</td>\n",
       "      <td>3.12</td>\n",
       "    </tr>\n",
       "    <tr>\n",
       "      <th>DOB</th>\n",
       "      <td>87</td>\n",
       "      <td>2.17</td>\n",
       "    </tr>\n",
       "    <tr>\n",
       "      <th>tenure</th>\n",
       "      <td>87</td>\n",
       "      <td>2.17</td>\n",
       "    </tr>\n",
       "    <tr>\n",
       "      <th>customer_id</th>\n",
       "      <td>0</td>\n",
       "      <td>0.00</td>\n",
       "    </tr>\n",
       "    <tr>\n",
       "      <th>first_name</th>\n",
       "      <td>0</td>\n",
       "      <td>0.00</td>\n",
       "    </tr>\n",
       "    <tr>\n",
       "      <th>gender</th>\n",
       "      <td>0</td>\n",
       "      <td>0.00</td>\n",
       "    </tr>\n",
       "    <tr>\n",
       "      <th>past_3_years_bike_related_purchases</th>\n",
       "      <td>0</td>\n",
       "      <td>0.00</td>\n",
       "    </tr>\n",
       "    <tr>\n",
       "      <th>wealth_segment</th>\n",
       "      <td>0</td>\n",
       "      <td>0.00</td>\n",
       "    </tr>\n",
       "    <tr>\n",
       "      <th>deceased_indicator</th>\n",
       "      <td>0</td>\n",
       "      <td>0.00</td>\n",
       "    </tr>\n",
       "    <tr>\n",
       "      <th>owns_car</th>\n",
       "      <td>0</td>\n",
       "      <td>0.00</td>\n",
       "    </tr>\n",
       "  </tbody>\n",
       "</table>\n",
       "</div>"
      ],
      "text/plain": [
       "                                     missing value counts      %\n",
       "job_industry_category                                 656  16.40\n",
       "job_title                                             506  12.65\n",
       "default                                               302   7.55\n",
       "last_name                                             125   3.12\n",
       "DOB                                                    87   2.17\n",
       "tenure                                                 87   2.17\n",
       "customer_id                                             0   0.00\n",
       "first_name                                              0   0.00\n",
       "gender                                                  0   0.00\n",
       "past_3_years_bike_related_purchases                     0   0.00\n",
       "wealth_segment                                          0   0.00\n",
       "deceased_indicator                                      0   0.00\n",
       "owns_car                                                0   0.00"
      ]
     },
     "execution_count": 10,
     "metadata": {},
     "output_type": "execute_result"
    }
   ],
   "source": [
    "# checking missing value of each columns\n",
    "counts = df_demo.isna().sum().sort_values(ascending=False)\n",
    "\n",
    "# percentages of missing value\n",
    "percent = round(df_demo.isna().mean()*100, 2).sort_values(ascending=False)\n",
    "\n",
    "# create dataframe of missing value\n",
    "df_demo_nan = pd.concat([counts,percent], axis=1, keys=['missing value counts', '%'])\n",
    "df_demo_nan"
   ]
  },
  {
   "cell_type": "markdown",
   "id": "44a10111-1fb1-4fb2-ab3f-46991f352f18",
   "metadata": {},
   "source": [
    "🔎 **Observation :**\n",
    "There are many missing values in the dataset (**more than 10%**).**job_industry_category** and **job_title** are the columns that contain the **most** missing values."
   ]
  },
  {
   "cell_type": "markdown",
   "id": "e20cf088-f886-4e18-9cee-ca17a5431e74",
   "metadata": {},
   "source": [
    "#### 1.3. Checking Duplicate Records"
   ]
  },
  {
   "cell_type": "code",
   "execution_count": 11,
   "id": "ec50853e-949d-48ae-87ad-bdb633e0847e",
   "metadata": {},
   "outputs": [
    {
     "data": {
      "text/plain": [
       "False"
      ]
     },
     "execution_count": 11,
     "metadata": {},
     "output_type": "execute_result"
    }
   ],
   "source": [
    "# checking duplicated data\n",
    "df_demo.duplicated().any()"
   ]
  },
  {
   "cell_type": "markdown",
   "id": "c04a9cde-8957-469b-b93f-f009fa08d21f",
   "metadata": {},
   "source": [
    "🔎 **Observation :**\n",
    "There is **no duplicate data**."
   ]
  },
  {
   "cell_type": "markdown",
   "id": "39e463e8-a6e5-40c3-b878-6e4d45e936ff",
   "metadata": {},
   "source": [
    "#### 1.4. Statistical Summary"
   ]
  },
  {
   "cell_type": "code",
   "execution_count": 12,
   "id": "a2aa45cc-1739-4103-904b-90ab48a2ebed",
   "metadata": {},
   "outputs": [
    {
     "data": {
      "text/html": [
       "<div>\n",
       "<style scoped>\n",
       "    .dataframe tbody tr th:only-of-type {\n",
       "        vertical-align: middle;\n",
       "    }\n",
       "\n",
       "    .dataframe tbody tr th {\n",
       "        vertical-align: top;\n",
       "    }\n",
       "\n",
       "    .dataframe thead th {\n",
       "        text-align: right;\n",
       "    }\n",
       "</style>\n",
       "<table border=\"1\" class=\"dataframe\">\n",
       "  <thead>\n",
       "    <tr style=\"text-align: right;\">\n",
       "      <th></th>\n",
       "      <th>count</th>\n",
       "      <th>mean</th>\n",
       "      <th>std</th>\n",
       "      <th>min</th>\n",
       "      <th>25%</th>\n",
       "      <th>50%</th>\n",
       "      <th>75%</th>\n",
       "      <th>max</th>\n",
       "    </tr>\n",
       "  </thead>\n",
       "  <tbody>\n",
       "    <tr>\n",
       "      <th>customer_id</th>\n",
       "      <td>4000.0</td>\n",
       "      <td>2000.500000</td>\n",
       "      <td>1154.844867</td>\n",
       "      <td>1.0</td>\n",
       "      <td>1000.75</td>\n",
       "      <td>2000.5</td>\n",
       "      <td>3000.25</td>\n",
       "      <td>4000.0</td>\n",
       "    </tr>\n",
       "    <tr>\n",
       "      <th>past_3_years_bike_related_purchases</th>\n",
       "      <td>4000.0</td>\n",
       "      <td>48.890000</td>\n",
       "      <td>28.715005</td>\n",
       "      <td>0.0</td>\n",
       "      <td>24.00</td>\n",
       "      <td>48.0</td>\n",
       "      <td>73.00</td>\n",
       "      <td>99.0</td>\n",
       "    </tr>\n",
       "    <tr>\n",
       "      <th>tenure</th>\n",
       "      <td>3913.0</td>\n",
       "      <td>10.657041</td>\n",
       "      <td>5.660146</td>\n",
       "      <td>1.0</td>\n",
       "      <td>6.00</td>\n",
       "      <td>11.0</td>\n",
       "      <td>15.00</td>\n",
       "      <td>22.0</td>\n",
       "    </tr>\n",
       "  </tbody>\n",
       "</table>\n",
       "</div>"
      ],
      "text/plain": [
       "                                      count         mean          std  min  \\\n",
       "customer_id                          4000.0  2000.500000  1154.844867  1.0   \n",
       "past_3_years_bike_related_purchases  4000.0    48.890000    28.715005  0.0   \n",
       "tenure                               3913.0    10.657041     5.660146  1.0   \n",
       "\n",
       "                                         25%     50%      75%     max  \n",
       "customer_id                          1000.75  2000.5  3000.25  4000.0  \n",
       "past_3_years_bike_related_purchases    24.00    48.0    73.00    99.0  \n",
       "tenure                                  6.00    11.0    15.00    22.0  "
      ]
     },
     "execution_count": 12,
     "metadata": {},
     "output_type": "execute_result"
    }
   ],
   "source": [
    "# numerical value\n",
    "df_demo[nums].describe().T"
   ]
  },
  {
   "cell_type": "code",
   "execution_count": 13,
   "id": "09567b06-ff31-4326-ab6b-cd4a45a58ddb",
   "metadata": {},
   "outputs": [
    {
     "data": {
      "text/html": [
       "<div>\n",
       "<style scoped>\n",
       "    .dataframe tbody tr th:only-of-type {\n",
       "        vertical-align: middle;\n",
       "    }\n",
       "\n",
       "    .dataframe tbody tr th {\n",
       "        vertical-align: top;\n",
       "    }\n",
       "\n",
       "    .dataframe thead th {\n",
       "        text-align: right;\n",
       "    }\n",
       "</style>\n",
       "<table border=\"1\" class=\"dataframe\">\n",
       "  <thead>\n",
       "    <tr style=\"text-align: right;\">\n",
       "      <th></th>\n",
       "      <th>count</th>\n",
       "      <th>unique</th>\n",
       "      <th>top</th>\n",
       "      <th>freq</th>\n",
       "    </tr>\n",
       "  </thead>\n",
       "  <tbody>\n",
       "    <tr>\n",
       "      <th>first_name</th>\n",
       "      <td>4000</td>\n",
       "      <td>3139</td>\n",
       "      <td>Max</td>\n",
       "      <td>5</td>\n",
       "    </tr>\n",
       "    <tr>\n",
       "      <th>last_name</th>\n",
       "      <td>3875</td>\n",
       "      <td>3725</td>\n",
       "      <td>Pristnor</td>\n",
       "      <td>3</td>\n",
       "    </tr>\n",
       "    <tr>\n",
       "      <th>gender</th>\n",
       "      <td>4000</td>\n",
       "      <td>6</td>\n",
       "      <td>Female</td>\n",
       "      <td>2037</td>\n",
       "    </tr>\n",
       "    <tr>\n",
       "      <th>DOB</th>\n",
       "      <td>3913</td>\n",
       "      <td>3448</td>\n",
       "      <td>1978-01-30</td>\n",
       "      <td>7</td>\n",
       "    </tr>\n",
       "    <tr>\n",
       "      <th>job_title</th>\n",
       "      <td>3494</td>\n",
       "      <td>195</td>\n",
       "      <td>Business Systems Development Analyst</td>\n",
       "      <td>45</td>\n",
       "    </tr>\n",
       "    <tr>\n",
       "      <th>job_industry_category</th>\n",
       "      <td>3344</td>\n",
       "      <td>9</td>\n",
       "      <td>Manufacturing</td>\n",
       "      <td>799</td>\n",
       "    </tr>\n",
       "    <tr>\n",
       "      <th>wealth_segment</th>\n",
       "      <td>4000</td>\n",
       "      <td>3</td>\n",
       "      <td>Mass Customer</td>\n",
       "      <td>2000</td>\n",
       "    </tr>\n",
       "    <tr>\n",
       "      <th>deceased_indicator</th>\n",
       "      <td>4000</td>\n",
       "      <td>2</td>\n",
       "      <td>N</td>\n",
       "      <td>3998</td>\n",
       "    </tr>\n",
       "    <tr>\n",
       "      <th>default</th>\n",
       "      <td>3698</td>\n",
       "      <td>101</td>\n",
       "      <td>1.00E+02</td>\n",
       "      <td>111</td>\n",
       "    </tr>\n",
       "    <tr>\n",
       "      <th>owns_car</th>\n",
       "      <td>4000</td>\n",
       "      <td>2</td>\n",
       "      <td>Yes</td>\n",
       "      <td>2024</td>\n",
       "    </tr>\n",
       "  </tbody>\n",
       "</table>\n",
       "</div>"
      ],
      "text/plain": [
       "                      count unique                                   top  freq\n",
       "first_name             4000   3139                                   Max     5\n",
       "last_name              3875   3725                              Pristnor     3\n",
       "gender                 4000      6                                Female  2037\n",
       "DOB                    3913   3448                            1978-01-30     7\n",
       "job_title              3494    195  Business Systems Development Analyst    45\n",
       "job_industry_category  3344      9                         Manufacturing   799\n",
       "wealth_segment         4000      3                         Mass Customer  2000\n",
       "deceased_indicator     4000      2                                     N  3998\n",
       "default                3698    101                              1.00E+02   111\n",
       "owns_car               4000      2                                   Yes  2024"
      ]
     },
     "execution_count": 13,
     "metadata": {},
     "output_type": "execute_result"
    }
   ],
   "source": [
    "# categorical value\n",
    "df_demo[cats].describe().T"
   ]
  },
  {
   "cell_type": "markdown",
   "id": "c9c2b320-968b-4de5-969a-392a41b57a44",
   "metadata": {},
   "source": [
    "#### 1.5 Checking Distribution"
   ]
  },
  {
   "cell_type": "code",
   "execution_count": 14,
   "id": "cadda36c-ccec-4ef5-8aba-0243b66b0bae",
   "metadata": {},
   "outputs": [
    {
     "data": {
      "image/png": "[encoded data removed]",
      "text/plain": [
       "<Figure size 800x200 with 3 Axes>"
      ]
     },
     "metadata": {},
     "output_type": "display_data"
    }
   ],
   "source": [
    "# distribution numerical data\n",
    "plt.figure(figsize=(8, 2))\n",
    "for i in range(0, len(nums)):\n",
    "    plt.subplot(1, len(nums), i+1)\n",
    "    sns.distplot(df_demo[nums[i]], color='yellowgreen')\n",
    "    plt.tight_layout()"
   ]
  },
  {
   "cell_type": "code",
   "execution_count": 15,
   "id": "f09e60d7-cf31-40d5-a171-dd485b8ef3d6",
   "metadata": {},
   "outputs": [
    {
     "data": {
      "image/png": "[encoded data removed]",
      "text/plain": [
       "<Figure size 600x200 with 3 Axes>"
      ]
     },
     "metadata": {},
     "output_type": "display_data"
    }
   ],
   "source": [
    "# distribution numerical data and check outlier\n",
    "plt.figure(figsize=(6, 2))\n",
    "for i in range(0, len(nums)):\n",
    "    plt.subplot(1, len(nums), i+1)\n",
    "    sns.boxplot(y=df_demo[nums[i]], color='yellowgreen', orient='v')\n",
    "    plt.tight_layout()"
   ]
  },
  {
   "cell_type": "code",
   "execution_count": 16,
   "id": "92d59c53-a041-484e-869e-8c203a09ce37",
   "metadata": {},
   "outputs": [
    {
     "data": {
      "image/png": "[encoded data removed]",
      "text/plain": [
       "<Figure size 1400x1400 with 7 Axes>"
      ]
     },
     "metadata": {},
     "output_type": "display_data"
    }
   ],
   "source": [
    "# visualization/countplot categorikal data\n",
    "cats = ['gender', 'DOB', 'job_title', 'job_industry_category', 'wealth_segment', 'deceased_indicator', 'owns_car']\n",
    "plt.figure(figsize=(14, 14))\n",
    "for i in range(0, len(cats)):\n",
    "    plt.subplot(4, 2, i+1)\n",
    "    sns.countplot(x=df_demo[cats[i]], color='yellowgreen', orient='v')\n",
    "    plt.tight_layout()"
   ]
  },
  {
   "cell_type": "markdown",
   "id": "007f4884-cbf8-4f07-b06c-27a87fc20c24",
   "metadata": {},
   "source": [
    "🔎 **Observation :**\n",
    "- The data distribution tends to be **normal**.\n",
    "- There are **no outlier/ anomaly record**."
   ]
  },
  {
   "cell_type": "markdown",
   "id": "b0394640-1102-4b83-a921-396314fc2fdb",
   "metadata": {},
   "source": [
    "### **2. Data Cleaning**"
   ]
  },
  {
   "cell_type": "markdown",
   "id": "1e5dabb2-2532-40aa-afa4-63e6ea970e5d",
   "metadata": {},
   "source": [
    "#### 2.1 Dropping Irrelavant Columns"
   ]
  },
  {
   "cell_type": "code",
   "execution_count": 17,
   "id": "343e2628-682e-4934-9618-4da9fa1d113f",
   "metadata": {},
   "outputs": [],
   "source": [
    "# crete copy of dataset\n",
    "df_demo1 = df_demo.copy()"
   ]
  },
  {
   "cell_type": "code",
   "execution_count": 18,
   "id": "df77c12b-09ac-4eb3-b909-325f66dd7626",
   "metadata": {},
   "outputs": [],
   "source": [
    "# drop columns\n",
    "df_demo1.drop(columns=['default'], inplace=True)"
   ]
  },
  {
   "cell_type": "code",
   "execution_count": 19,
   "id": "89cc2af9-2fb2-4d62-897a-9ca535ccb385",
   "metadata": {},
   "outputs": [
    {
     "data": {
      "text/plain": [
       "Index(['customer_id', 'first_name', 'last_name', 'gender',\n",
       "       'past_3_years_bike_related_purchases', 'DOB', 'job_title',\n",
       "       'job_industry_category', 'wealth_segment', 'deceased_indicator',\n",
       "       'owns_car', 'tenure'],\n",
       "      dtype='object')"
      ]
     },
     "execution_count": 19,
     "metadata": {},
     "output_type": "execute_result"
    }
   ],
   "source": [
    "df_demo1.columns"
   ]
  },
  {
   "cell_type": "markdown",
   "id": "62303801-98b9-467c-bf7f-4f842ccce3f8",
   "metadata": {},
   "source": [
    "The dataset has been cleared of irrelevant columns ✅"
   ]
  },
  {
   "cell_type": "markdown",
   "id": "a207ecb5-83cf-4568-b24e-9d5e8a786c6e",
   "metadata": {
    "tags": []
   },
   "source": [
    "#### 2.2 Handling Missing Values"
   ]
  },
  {
   "cell_type": "code",
   "execution_count": 20,
   "id": "aa104dfd-3ba9-42a4-98ff-c5627ab7fdce",
   "metadata": {},
   "outputs": [
    {
     "data": {
      "text/plain": [
       "customer_id                              0\n",
       "first_name                               0\n",
       "last_name                              125\n",
       "gender                                   0\n",
       "past_3_years_bike_related_purchases      0\n",
       "DOB                                     87\n",
       "job_title                              506\n",
       "job_industry_category                  656\n",
       "wealth_segment                           0\n",
       "deceased_indicator                       0\n",
       "owns_car                                 0\n",
       "tenure                                  87\n",
       "dtype: int64"
      ]
     },
     "execution_count": 20,
     "metadata": {},
     "output_type": "execute_result"
    }
   ],
   "source": [
    "df_demo1.isna().sum()"
   ]
  },
  {
   "cell_type": "markdown",
   "id": "babcd402-a17d-468b-a7e3-0a610a371581",
   "metadata": {},
   "source": [
    "🔽 **`first_name` and `last_name`**\n",
    "> It is assumed that the user did not fill in or does not have a last name, so I decided to fill the NaN **last name value with the first name**."
   ]
  },
  {
   "cell_type": "code",
   "execution_count": 21,
   "id": "3c608e22-2e58-4524-8e0d-387b4069226f",
   "metadata": {},
   "outputs": [],
   "source": [
    "# filling nan in last name with first name\n",
    "df_demo1['last_name'].fillna(df_demo1['first_name'], inplace=True)"
   ]
  },
  {
   "cell_type": "markdown",
   "id": "112ac4f9-17e0-4796-8e3c-15b7bd7dc541",
   "metadata": {},
   "source": [
    "🔽 **`job_title` and `job_industry_category`**\n",
    "> Because the number of missing values in this column is quite **large** (500+) and considering the frequency of **unique values**, I decided to **fill NaN with previous value**."
   ]
  },
  {
   "cell_type": "code",
   "execution_count": 22,
   "id": "c8db072d-d0b8-444b-bc0e-9f721d1d859c",
   "metadata": {},
   "outputs": [
    {
     "data": {
      "text/plain": [
       "Business Systems Development Analyst    45\n",
       "Tax Accountant                          44\n",
       "Social Worker                           44\n",
       "Internal Auditor                        42\n",
       "Recruiting Manager                      41\n",
       "                                        ..\n",
       "Database Administrator I                 4\n",
       "Health Coach I                           3\n",
       "Health Coach III                         3\n",
       "Research Assistant III                   3\n",
       "Developer I                              1\n",
       "Name: job_title, Length: 195, dtype: int64"
      ]
     },
     "execution_count": 22,
     "metadata": {},
     "output_type": "execute_result"
    }
   ],
   "source": [
    "df_demo1['job_title'].value_counts()"
   ]
  },
  {
   "cell_type": "code",
   "execution_count": 23,
   "id": "286fb896-3395-4f11-bdb1-3134cab913b8",
   "metadata": {},
   "outputs": [
    {
     "data": {
      "text/plain": [
       "Manufacturing         799\n",
       "Financial Services    774\n",
       "Health                602\n",
       "Retail                358\n",
       "Property              267\n",
       "IT                    223\n",
       "Entertainment         136\n",
       "Argiculture           113\n",
       "Telecommunications     72\n",
       "Name: job_industry_category, dtype: int64"
      ]
     },
     "execution_count": 23,
     "metadata": {},
     "output_type": "execute_result"
    }
   ],
   "source": [
    "df_demo1['job_industry_category'].value_counts()"
   ]
  },
  {
   "cell_type": "code",
   "execution_count": 24,
   "id": "4a2eedcf-b898-4d13-a4f4-f561f4237d26",
   "metadata": {},
   "outputs": [],
   "source": [
    "# filling nan with previous value\n",
    "fill = ['job_title','job_industry_category']\n",
    "\n",
    "for x in fill:\n",
    "    df_demo1[x].fillna(method='pad',inplace=True)"
   ]
  },
  {
   "cell_type": "markdown",
   "id": "40bacb1f-b6b7-4479-80bb-3dc56ad93e6b",
   "metadata": {},
   "source": [
    "🔽 **`DOB`**\n",
    "> frequency of missing values more large than mode, so I decided to **fill NaN with previous value**."
   ]
  },
  {
   "cell_type": "code",
   "execution_count": 25,
   "id": "a4605942-04f6-4499-9a43-50c826adcbc6",
   "metadata": {},
   "outputs": [],
   "source": [
    "df_demo1['DOB'].fillna(method='pad',inplace=True)"
   ]
  },
  {
   "cell_type": "markdown",
   "id": "6e96585b-1f70-4cf8-a685-5e90b8f9b381",
   "metadata": {},
   "source": [
    "🔽 **`tenure`**"
   ]
  },
  {
   "cell_type": "code",
   "execution_count": 26,
   "id": "506a451f-dff6-4186-b247-e9d65dcb13d0",
   "metadata": {},
   "outputs": [],
   "source": [
    "df_demo1['tenure'].fillna(method='pad',inplace=True)"
   ]
  },
  {
   "cell_type": "code",
   "execution_count": 27,
   "id": "e7204670-51ad-4432-9749-149154d3a371",
   "metadata": {},
   "outputs": [
    {
     "data": {
      "text/plain": [
       "customer_id                            0\n",
       "first_name                             0\n",
       "last_name                              0\n",
       "gender                                 0\n",
       "past_3_years_bike_related_purchases    0\n",
       "DOB                                    0\n",
       "job_title                              0\n",
       "job_industry_category                  0\n",
       "wealth_segment                         0\n",
       "deceased_indicator                     0\n",
       "owns_car                               0\n",
       "tenure                                 0\n",
       "dtype: int64"
      ]
     },
     "execution_count": 27,
     "metadata": {},
     "output_type": "execute_result"
    }
   ],
   "source": [
    "df_demo1.isna().sum()"
   ]
  },
  {
   "cell_type": "markdown",
   "id": "bc58bd00-f5a1-4e5d-b6ac-ee5f1f0f4e9b",
   "metadata": {},
   "source": [
    "The dataset has been cleared of missing values ✅"
   ]
  },
  {
   "cell_type": "markdown",
   "id": "02a68b5b-68a2-43c3-969f-561bb91aa267",
   "metadata": {
    "tags": []
   },
   "source": [
    "#### 2.3 Handling Data Type & Incorrect Values"
   ]
  },
  {
   "cell_type": "markdown",
   "id": "a831768b-9999-420a-b71f-6014c96e244e",
   "metadata": {},
   "source": [
    "🔽 **`gender`**"
   ]
  },
  {
   "cell_type": "code",
   "execution_count": 28,
   "id": "2ffe991a-a2d3-48b1-baeb-5f4103e43eb6",
   "metadata": {},
   "outputs": [
    {
     "data": {
      "text/plain": [
       "Female    2037\n",
       "Male      1872\n",
       "U           88\n",
       "F            1\n",
       "Femal        1\n",
       "M            1\n",
       "Name: gender, dtype: int64"
      ]
     },
     "execution_count": 28,
     "metadata": {},
     "output_type": "execute_result"
    }
   ],
   "source": [
    "# checking value counts gender\n",
    "df_demo1['gender'].value_counts()"
   ]
  },
  {
   "cell_type": "code",
   "execution_count": 29,
   "id": "c3e0d370-1dcc-4e0a-950b-4c76aec38b27",
   "metadata": {},
   "outputs": [],
   "source": [
    "# fixing inconsitency value\n",
    "df_demo1.replace(to_replace= ['F', 'Femal', 'U'], value = 'Female', inplace=True)\n",
    "df_demo1.replace(to_replace= ['M'], value = 'Male', inplace=True)"
   ]
  },
  {
   "cell_type": "code",
   "execution_count": 30,
   "id": "31b5bcd9-82dc-475c-a571-832abfaab288",
   "metadata": {},
   "outputs": [
    {
     "data": {
      "text/plain": [
       "Female    2127\n",
       "Male      1873\n",
       "Name: gender, dtype: int64"
      ]
     },
     "execution_count": 30,
     "metadata": {},
     "output_type": "execute_result"
    }
   ],
   "source": [
    "# checking \n",
    "df_demo1['gender'].value_counts()"
   ]
  },
  {
   "cell_type": "markdown",
   "id": "44dd8af3-c4c6-4e5a-b3c9-dc3df7e68529",
   "metadata": {},
   "source": [
    "🔽 **`deceased_indicator`**"
   ]
  },
  {
   "cell_type": "code",
   "execution_count": 31,
   "id": "e579fb60-f977-4586-b327-79a3c4320e54",
   "metadata": {},
   "outputs": [],
   "source": [
    "df_demo1['deceased_indicator'].replace(['Y', 'N'], ['Yes', 'No'], inplace=True)"
   ]
  },
  {
   "cell_type": "code",
   "execution_count": 32,
   "id": "b73b341d-d254-469a-9f75-810c65ccdd39",
   "metadata": {},
   "outputs": [
    {
     "data": {
      "text/html": [
       "<div>\n",
       "<style scoped>\n",
       "    .dataframe tbody tr th:only-of-type {\n",
       "        vertical-align: middle;\n",
       "    }\n",
       "\n",
       "    .dataframe tbody tr th {\n",
       "        vertical-align: top;\n",
       "    }\n",
       "\n",
       "    .dataframe thead th {\n",
       "        text-align: right;\n",
       "    }\n",
       "</style>\n",
       "<table border=\"1\" class=\"dataframe\">\n",
       "  <thead>\n",
       "    <tr style=\"text-align: right;\">\n",
       "      <th></th>\n",
       "      <th>customer_id</th>\n",
       "      <th>first_name</th>\n",
       "      <th>last_name</th>\n",
       "      <th>gender</th>\n",
       "      <th>past_3_years_bike_related_purchases</th>\n",
       "      <th>DOB</th>\n",
       "      <th>job_title</th>\n",
       "      <th>job_industry_category</th>\n",
       "      <th>wealth_segment</th>\n",
       "      <th>deceased_indicator</th>\n",
       "      <th>owns_car</th>\n",
       "      <th>tenure</th>\n",
       "    </tr>\n",
       "  </thead>\n",
       "  <tbody>\n",
       "    <tr>\n",
       "      <th>752</th>\n",
       "      <td>753</td>\n",
       "      <td>Josy</td>\n",
       "      <td>St. Quentin</td>\n",
       "      <td>Female</td>\n",
       "      <td>82</td>\n",
       "      <td>1970-03-07</td>\n",
       "      <td>Food Chemist</td>\n",
       "      <td>Health</td>\n",
       "      <td>Affluent Customer</td>\n",
       "      <td>Yes</td>\n",
       "      <td>Yes</td>\n",
       "      <td>6.0</td>\n",
       "    </tr>\n",
       "    <tr>\n",
       "      <th>3789</th>\n",
       "      <td>3790</td>\n",
       "      <td>Kurtis</td>\n",
       "      <td>Morson</td>\n",
       "      <td>Male</td>\n",
       "      <td>91</td>\n",
       "      <td>1959-05-31</td>\n",
       "      <td>Senior Editor</td>\n",
       "      <td>Retail</td>\n",
       "      <td>Mass Customer</td>\n",
       "      <td>Yes</td>\n",
       "      <td>Yes</td>\n",
       "      <td>9.0</td>\n",
       "    </tr>\n",
       "  </tbody>\n",
       "</table>\n",
       "</div>"
      ],
      "text/plain": [
       "      customer_id first_name    last_name  gender  \\\n",
       "752           753       Josy  St. Quentin  Female   \n",
       "3789         3790     Kurtis       Morson    Male   \n",
       "\n",
       "      past_3_years_bike_related_purchases         DOB      job_title  \\\n",
       "752                                    82  1970-03-07   Food Chemist   \n",
       "3789                                   91  1959-05-31  Senior Editor   \n",
       "\n",
       "     job_industry_category     wealth_segment deceased_indicator owns_car  \\\n",
       "752                 Health  Affluent Customer                Yes      Yes   \n",
       "3789                Retail      Mass Customer                Yes      Yes   \n",
       "\n",
       "      tenure  \n",
       "752      6.0  \n",
       "3789     9.0  "
      ]
     },
     "execution_count": 32,
     "metadata": {},
     "output_type": "execute_result"
    }
   ],
   "source": [
    "# remove Yes deceased indicator\n",
    "df_demo1[df_demo1['deceased_indicator'] == 'Yes']"
   ]
  },
  {
   "cell_type": "code",
   "execution_count": 33,
   "id": "94204a2b-412c-4f27-8d78-38869085a65d",
   "metadata": {},
   "outputs": [],
   "source": [
    "df_demo1.drop([752, 3789], inplace=True)"
   ]
  },
  {
   "cell_type": "code",
   "execution_count": 34,
   "id": "7e7f7506-1d35-41cd-9fbe-535aa914118f",
   "metadata": {},
   "outputs": [
    {
     "data": {
      "text/html": [
       "<div>\n",
       "<style scoped>\n",
       "    .dataframe tbody tr th:only-of-type {\n",
       "        vertical-align: middle;\n",
       "    }\n",
       "\n",
       "    .dataframe tbody tr th {\n",
       "        vertical-align: top;\n",
       "    }\n",
       "\n",
       "    .dataframe thead th {\n",
       "        text-align: right;\n",
       "    }\n",
       "</style>\n",
       "<table border=\"1\" class=\"dataframe\">\n",
       "  <thead>\n",
       "    <tr style=\"text-align: right;\">\n",
       "      <th></th>\n",
       "      <th>customer_id</th>\n",
       "      <th>first_name</th>\n",
       "      <th>last_name</th>\n",
       "      <th>gender</th>\n",
       "      <th>past_3_years_bike_related_purchases</th>\n",
       "      <th>DOB</th>\n",
       "      <th>job_title</th>\n",
       "      <th>job_industry_category</th>\n",
       "      <th>wealth_segment</th>\n",
       "      <th>deceased_indicator</th>\n",
       "      <th>owns_car</th>\n",
       "      <th>tenure</th>\n",
       "    </tr>\n",
       "  </thead>\n",
       "  <tbody>\n",
       "  </tbody>\n",
       "</table>\n",
       "</div>"
      ],
      "text/plain": [
       "Empty DataFrame\n",
       "Columns: [customer_id, first_name, last_name, gender, past_3_years_bike_related_purchases, DOB, job_title, job_industry_category, wealth_segment, deceased_indicator, owns_car, tenure]\n",
       "Index: []"
      ]
     },
     "execution_count": 34,
     "metadata": {},
     "output_type": "execute_result"
    }
   ],
   "source": [
    "df_demo1[df_demo1['deceased_indicator'] == 'Yes']"
   ]
  },
  {
   "cell_type": "code",
   "execution_count": 35,
   "id": "ce251d69-8acc-4320-9868-00a2bf4d5909",
   "metadata": {},
   "outputs": [],
   "source": [
    "# drop colums\n",
    "df_demo1.drop(columns='deceased_indicator', inplace=True)"
   ]
  },
  {
   "cell_type": "markdown",
   "id": "35ba8f76-159e-4d4e-b4a5-6bb4d1aa43d4",
   "metadata": {},
   "source": [
    "🔽 **`DOB`**"
   ]
  },
  {
   "cell_type": "code",
   "execution_count": 36,
   "id": "74fc76a5-2f9c-4477-9544-4119ed921b25",
   "metadata": {},
   "outputs": [],
   "source": [
    "# fixing datatype\n",
    "df_demo1['DOB'] = df_demo1['DOB'].astype('datetime64[ns]')"
   ]
  },
  {
   "cell_type": "code",
   "execution_count": 37,
   "id": "c0f91d92-c243-4d43-916d-af211ce27254",
   "metadata": {},
   "outputs": [],
   "source": [
    "# create function tu calculate age\n",
    "from datetime import date\n",
    "def calculate_age(birthdate):\n",
    "    today = date.today()\n",
    "    age = today.year-birthdate.year-((today.month, today.day) < (birthdate.month, birthdate.day))\n",
    "    return age\n",
    "\n",
    "# fit into dataframe\n",
    "df_demo1['age']=df_demo1['DOB'].apply(calculate_age)\n",
    "df_demo1['age_class'] = (round(df_demo1['age']/ 10) * 10).astype(int)\n",
    "df_demo1.drop(columns='age', inplace=True)"
   ]
  },
  {
   "cell_type": "markdown",
   "id": "ce6d57dc-e132-44ef-a4da-ad25eec4b5f5",
   "metadata": {},
   "source": [
    "🔽 **`tenure`**"
   ]
  },
  {
   "cell_type": "code",
   "execution_count": 38,
   "id": "52b891cd-9caf-4f86-95bd-3f3563a487d9",
   "metadata": {},
   "outputs": [],
   "source": [
    "df_demo1['tenure'] = df_demo1['tenure'].astype('int64')"
   ]
  },
  {
   "cell_type": "code",
   "execution_count": 39,
   "id": "21ba480d-ed0a-4c19-88f2-792b0d367fa6",
   "metadata": {},
   "outputs": [
    {
     "data": {
      "text/html": [
       "<div>\n",
       "<style scoped>\n",
       "    .dataframe tbody tr th:only-of-type {\n",
       "        vertical-align: middle;\n",
       "    }\n",
       "\n",
       "    .dataframe tbody tr th {\n",
       "        vertical-align: top;\n",
       "    }\n",
       "\n",
       "    .dataframe thead th {\n",
       "        text-align: right;\n",
       "    }\n",
       "</style>\n",
       "<table border=\"1\" class=\"dataframe\">\n",
       "  <thead>\n",
       "    <tr style=\"text-align: right;\">\n",
       "      <th></th>\n",
       "      <th>customer_id</th>\n",
       "      <th>first_name</th>\n",
       "      <th>last_name</th>\n",
       "      <th>gender</th>\n",
       "      <th>past_3_years_bike_related_purchases</th>\n",
       "      <th>DOB</th>\n",
       "      <th>job_title</th>\n",
       "      <th>job_industry_category</th>\n",
       "      <th>wealth_segment</th>\n",
       "      <th>owns_car</th>\n",
       "      <th>tenure</th>\n",
       "      <th>age_class</th>\n",
       "    </tr>\n",
       "  </thead>\n",
       "  <tbody>\n",
       "    <tr>\n",
       "      <th>3965</th>\n",
       "      <td>3966</td>\n",
       "      <td>Astrix</td>\n",
       "      <td>Sigward</td>\n",
       "      <td>Female</td>\n",
       "      <td>53</td>\n",
       "      <td>1968-09-15</td>\n",
       "      <td>Geologist I</td>\n",
       "      <td>Manufacturing</td>\n",
       "      <td>Mass Customer</td>\n",
       "      <td>Yes</td>\n",
       "      <td>11</td>\n",
       "      <td>50</td>\n",
       "    </tr>\n",
       "    <tr>\n",
       "      <th>646</th>\n",
       "      <td>647</td>\n",
       "      <td>Stanislas</td>\n",
       "      <td>Baildon</td>\n",
       "      <td>Male</td>\n",
       "      <td>61</td>\n",
       "      <td>1957-01-23</td>\n",
       "      <td>Assistant Manager</td>\n",
       "      <td>Retail</td>\n",
       "      <td>Mass Customer</td>\n",
       "      <td>Yes</td>\n",
       "      <td>10</td>\n",
       "      <td>70</td>\n",
       "    </tr>\n",
       "    <tr>\n",
       "      <th>2771</th>\n",
       "      <td>2772</td>\n",
       "      <td>Reynolds</td>\n",
       "      <td>Vreede</td>\n",
       "      <td>Male</td>\n",
       "      <td>15</td>\n",
       "      <td>1954-10-25</td>\n",
       "      <td>Quality Engineer</td>\n",
       "      <td>Property</td>\n",
       "      <td>Affluent Customer</td>\n",
       "      <td>Yes</td>\n",
       "      <td>13</td>\n",
       "      <td>70</td>\n",
       "    </tr>\n",
       "  </tbody>\n",
       "</table>\n",
       "</div>"
      ],
      "text/plain": [
       "      customer_id first_name last_name  gender  \\\n",
       "3965         3966     Astrix   Sigward  Female   \n",
       "646           647  Stanislas   Baildon    Male   \n",
       "2771         2772   Reynolds    Vreede    Male   \n",
       "\n",
       "      past_3_years_bike_related_purchases        DOB          job_title  \\\n",
       "3965                                   53 1968-09-15        Geologist I   \n",
       "646                                    61 1957-01-23  Assistant Manager   \n",
       "2771                                   15 1954-10-25   Quality Engineer   \n",
       "\n",
       "     job_industry_category     wealth_segment owns_car  tenure  age_class  \n",
       "3965         Manufacturing      Mass Customer      Yes      11         50  \n",
       "646                 Retail      Mass Customer      Yes      10         70  \n",
       "2771              Property  Affluent Customer      Yes      13         70  "
      ]
     },
     "execution_count": 39,
     "metadata": {},
     "output_type": "execute_result"
    }
   ],
   "source": [
    "# sampling\n",
    "df_demo1.sample(3)"
   ]
  },
  {
   "cell_type": "code",
   "execution_count": 40,
   "id": "44d27739-b1ee-4917-b9b9-0bbaf990a938",
   "metadata": {},
   "outputs": [
    {
     "name": "stdout",
     "output_type": "stream",
     "text": [
      "<class 'pandas.core.frame.DataFrame'>\n",
      "Int64Index: 3998 entries, 0 to 3999\n",
      "Data columns (total 12 columns):\n",
      " #   Column                               Non-Null Count  Dtype         \n",
      "---  ------                               --------------  -----         \n",
      " 0   customer_id                          3998 non-null   int64         \n",
      " 1   first_name                           3998 non-null   object        \n",
      " 2   last_name                            3998 non-null   object        \n",
      " 3   gender                               3998 non-null   object        \n",
      " 4   past_3_years_bike_related_purchases  3998 non-null   int64         \n",
      " 5   DOB                                  3998 non-null   datetime64[ns]\n",
      " 6   job_title                            3998 non-null   object        \n",
      " 7   job_industry_category                3998 non-null   object        \n",
      " 8   wealth_segment                       3998 non-null   object        \n",
      " 9   owns_car                             3998 non-null   object        \n",
      " 10  tenure                               3998 non-null   int64         \n",
      " 11  age_class                            3998 non-null   int32         \n",
      "dtypes: datetime64[ns](1), int32(1), int64(3), object(7)\n",
      "memory usage: 390.4+ KB\n"
     ]
    }
   ],
   "source": [
    "df_demo1.info()"
   ]
  },
  {
   "cell_type": "markdown",
   "id": "3424c22c-2cf7-49ea-9f3b-c132117c968f",
   "metadata": {},
   "source": [
    "The value and data type have been correct ✅"
   ]
  },
  {
   "cell_type": "markdown",
   "id": "01d1e899-a766-402f-ab30-701be8642286",
   "metadata": {},
   "source": [
    "### **3. Save Clean Dataset**"
   ]
  },
  {
   "cell_type": "code",
   "execution_count": 41,
   "id": "66322278-d44b-4f2c-ad24-9b16150c8ba0",
   "metadata": {},
   "outputs": [],
   "source": [
    "df_demo1.to_csv('CustomerDemographic_CLEAN.csv', index=False)"
   ]
  },
  {
   "cell_type": "markdown",
   "id": "ae886ef3-ec1e-42c9-9a7c-7d267e3a94cb",
   "metadata": {},
   "source": [
    "<br>\n",
    "<br>"
   ]
  },
  {
   "cell_type": "markdown",
   "id": "73d91b68-ee5c-4b4f-9cfd-87bb4dcdf3b7",
   "metadata": {},
   "source": [
    "# **Customer Address**\n",
    "---"
   ]
  },
  {
   "cell_type": "markdown",
   "id": "fac69e0b-7e28-4086-acb7-28180fa4d7fe",
   "metadata": {},
   "source": [
    "### **1. Exploratory Data Analysis**"
   ]
  },
  {
   "cell_type": "markdown",
   "id": "363c7006-0411-4ecb-b013-236aeda46196",
   "metadata": {},
   "source": [
    "#### 1.1. Checking Data Type and Unique Values"
   ]
  },
  {
   "cell_type": "code",
   "execution_count": 42,
   "id": "69f542e2-f160-4e38-a55a-e3d7234a684c",
   "metadata": {},
   "outputs": [
    {
     "data": {
      "text/html": [
       "<div>\n",
       "<style scoped>\n",
       "    .dataframe tbody tr th:only-of-type {\n",
       "        vertical-align: middle;\n",
       "    }\n",
       "\n",
       "    .dataframe tbody tr th {\n",
       "        vertical-align: top;\n",
       "    }\n",
       "\n",
       "    .dataframe thead th {\n",
       "        text-align: right;\n",
       "    }\n",
       "</style>\n",
       "<table border=\"1\" class=\"dataframe\">\n",
       "  <thead>\n",
       "    <tr style=\"text-align: right;\">\n",
       "      <th></th>\n",
       "      <th>customer_id</th>\n",
       "      <th>address</th>\n",
       "      <th>postcode</th>\n",
       "      <th>state</th>\n",
       "      <th>country</th>\n",
       "      <th>property_valuation</th>\n",
       "    </tr>\n",
       "  </thead>\n",
       "  <tbody>\n",
       "    <tr>\n",
       "      <th>3503</th>\n",
       "      <td>3508</td>\n",
       "      <td>7555 Springview Crossing</td>\n",
       "      <td>3195</td>\n",
       "      <td>VIC</td>\n",
       "      <td>Australia</td>\n",
       "      <td>10</td>\n",
       "    </tr>\n",
       "    <tr>\n",
       "      <th>1441</th>\n",
       "      <td>1446</td>\n",
       "      <td>70262 Hermina Court</td>\n",
       "      <td>3690</td>\n",
       "      <td>VIC</td>\n",
       "      <td>Australia</td>\n",
       "      <td>2</td>\n",
       "    </tr>\n",
       "    <tr>\n",
       "      <th>731</th>\n",
       "      <td>736</td>\n",
       "      <td>2726 Cardinal Way</td>\n",
       "      <td>3073</td>\n",
       "      <td>Victoria</td>\n",
       "      <td>Australia</td>\n",
       "      <td>5</td>\n",
       "    </tr>\n",
       "    <tr>\n",
       "      <th>3319</th>\n",
       "      <td>3324</td>\n",
       "      <td>4 Mayfield Center</td>\n",
       "      <td>3155</td>\n",
       "      <td>VIC</td>\n",
       "      <td>Australia</td>\n",
       "      <td>9</td>\n",
       "    </tr>\n",
       "    <tr>\n",
       "      <th>206</th>\n",
       "      <td>211</td>\n",
       "      <td>78 Rockefeller Park</td>\n",
       "      <td>2159</td>\n",
       "      <td>NSW</td>\n",
       "      <td>Australia</td>\n",
       "      <td>10</td>\n",
       "    </tr>\n",
       "  </tbody>\n",
       "</table>\n",
       "</div>"
      ],
      "text/plain": [
       "      customer_id                   address  postcode     state    country  \\\n",
       "3503         3508  7555 Springview Crossing      3195       VIC  Australia   \n",
       "1441         1446       70262 Hermina Court      3690       VIC  Australia   \n",
       "731           736         2726 Cardinal Way      3073  Victoria  Australia   \n",
       "3319         3324         4 Mayfield Center      3155       VIC  Australia   \n",
       "206           211       78 Rockefeller Park      2159       NSW  Australia   \n",
       "\n",
       "      property_valuation  \n",
       "3503                  10  \n",
       "1441                   2  \n",
       "731                    5  \n",
       "3319                   9  \n",
       "206                   10  "
      ]
     },
     "execution_count": 42,
     "metadata": {},
     "output_type": "execute_result"
    }
   ],
   "source": [
    "# sampling dataset\n",
    "df_addr.sample(5)"
   ]
  },
  {
   "cell_type": "code",
   "execution_count": 43,
   "id": "e133dfee-a07d-45c2-b3f9-deaef0586e05",
   "metadata": {},
   "outputs": [
    {
     "data": {
      "text/plain": [
       "(3999, 6)"
      ]
     },
     "execution_count": 43,
     "metadata": {},
     "output_type": "execute_result"
    }
   ],
   "source": [
    "# checking shape\n",
    "df_addr.shape"
   ]
  },
  {
   "cell_type": "code",
   "execution_count": 44,
   "id": "f76e4f06-7f2c-4ed4-8568-6aacf29d60c4",
   "metadata": {},
   "outputs": [
    {
     "name": "stdout",
     "output_type": "stream",
     "text": [
      "<class 'pandas.core.frame.DataFrame'>\n",
      "RangeIndex: 3999 entries, 0 to 3998\n",
      "Data columns (total 6 columns):\n",
      " #   Column              Non-Null Count  Dtype \n",
      "---  ------              --------------  ----- \n",
      " 0   customer_id         3999 non-null   int64 \n",
      " 1   address             3999 non-null   object\n",
      " 2   postcode            3999 non-null   int64 \n",
      " 3   state               3999 non-null   object\n",
      " 4   country             3999 non-null   object\n",
      " 5   property_valuation  3999 non-null   int64 \n",
      "dtypes: int64(3), object(3)\n",
      "memory usage: 187.6+ KB\n"
     ]
    }
   ],
   "source": [
    "# checking dataframe information\n",
    "df_addr.info()"
   ]
  },
  {
   "cell_type": "code",
   "execution_count": 45,
   "id": "f46d4126-d255-435b-af24-43387b38533e",
   "metadata": {},
   "outputs": [
    {
     "name": "stdout",
     "output_type": "stream",
     "text": [
      "customer_id have 3999 unique values: int64\n",
      "customer_id values: [   1    2    4 ... 4001 4002 4003]\n",
      "\n",
      "address have 3996 unique values: object\n",
      "address values: ['060 Morning Avenue' '6 Meadow Vale Court' '0 Holy Cross Court' ...\n",
      " '87 Crescent Oaks Alley' '8194 Lien Street' '320 Acker Drive']\n",
      "\n",
      "postcode have 873 unique values: int64\n",
      "postcode values: [2016 2153 4211 2448 3216 2210 2650 2023 3044 4557 3799 2760 2428 3331\n",
      " 3058 2135 2233 2444 4413 4740 3218 4868 4116 2519 2756 2170 4005 4127\n",
      " 2535 4726 4805 2212 2207 3350 3931 4018 4670 2480 3212 2322 3198 2047\n",
      " 4503 2145 4350 2142 2029 2127 4280 2166 2046 2026 2765 2749 2745 3752\n",
      " 2217 2230 3046 3183 2070 2213 4208 2774 4133 4213 4170 2073 3561 2330\n",
      " 3977 2204 2086 2226 2075 2038 2069 2100 3133 3070 2777 2125 2766 2209\n",
      " 2160 2065 2150 2168 4171 2155 2517 2096 2750 2093 3204 4300 3844 4226\n",
      " 3192 2485 2097 4817 2516 3074 4508 4405 2452 2205 4132 4744 2158 3201\n",
      " 4178 2112 2033 4401 3186 4017 2315 2285 2219 4509 2759 2747 2227 2025\n",
      " 3191 3025 2263 2154 2119 3016 4113 2032 4352 3020 2116 3057 2099 3749\n",
      " 2148 3145 2021 2333 2783 2280 4120 3638 2074 2880 2430 4560 2088 2220\n",
      " 3031 2250 2261 3196 4680 3143 2063 3021 2138 4811 2085 3084 3170 2066\n",
      " 4078 2222 3152 2159 4655 4220 4012 2015 2776 3011 2761 2502 2110 2566\n",
      " 2506 2508 2036 2018 3666 4514 2525 4152 2200 3023 3500 2283 2102 2040\n",
      " 2304 2340 3580 3355 2287 2324 2323 2320 2346 2031 2064 2176 3195 2010\n",
      " 2768 2752 3802 3071 4735 3081 3205 2165 3125 4214 2030 2767 2798 2117\n",
      " 4551 3064 3810 4151 2830 3030 4812 2141 3029 2173 3199 4506 2035 3340\n",
      " 3182 2450 2216 3796 3197 2232 2365 4701 4210 2223 4122 2515 3437 3338\n",
      " 2203 3356 3223 3032 3105 3101 2763 2089 2126 2147 2251 3127 3087 3131\n",
      " 3134 2193 4055 2530 4217 4020 2179 3130 4570 3215 3165 3936 2265 3034\n",
      " 2062 2162 3033 2144 3805 2642 3228 3444 2076 4124 4305 2579 2835 3337\n",
      " 2536 2770 2646 4558 2211 2570 4552 3082 2360 4223 4370 3150 2549 3040\n",
      " 4209 4173 2068 3806 2259 2260 4074 4215 3008 2748 2567 3015 4221 3121\n",
      " 4870 2118 2050 2120 3812 3111 3012 2197 3162 2037 3141 3178 3564 3550\n",
      " 3775 3004 3185 2447 3910 3621 4702 2133 3075 3911 2487 4123 2151 3156\n",
      " 3126 2027 3124 2564 2049 3690 3282 2576 3108 4165 2218 2190 2337 2307\n",
      " 2121 2716 3168 3076 2478 2560 2087 4505 2630 2225 3013 3136 2111 2106\n",
      " 3930 2291 2305 2300 4179 2539 3207 4340 3137 3068 4580 2041 4504 2306\n",
      " 4075 3975 4114 4341 4022 4820 3028 4035 2326 3429 4218 2380 3171 2565\n",
      " 3850 3807 4800 2577 2199 2134 4053 2800 2048 2194 2557 2548 2262 2463\n",
      " 2481 2072 3155 3095 4207 4110 2017 2769 4562 2571 3480 3551 2753 3093\n",
      " 4615 3174 2192 2290 3073 4810 4121 2229 4118 2594 3750 4019 2540 2293\n",
      " 2143 3630 2164 4869 2137 2354 4814 2282 2292 2171 2077 4873 4006 2754\n",
      " 2152 2067 2122 3976 2000 3175 2156 2228 3187 2680 2527 2163 2336 4415\n",
      " 3139 3147 3623 4356 2034 2196 2177 2234 2537 4720 3765 2486 4511 2795\n",
      " 3188 3730 3060 4131 2518 3158 2477 2195 2575 3400 3037 4507 2113 2443\n",
      " 3177 2641 4212 3241 3428 4227 4034 2558 2460 3173 2289 4500 4825 4161\n",
      " 3757 2871 2146 4380 3024 3934 3109 2136 2484 3225 4068 2214 3809 2454\n",
      " 4556 4573 2131 3184 2619 3138 3441 2101 4510 2647 2731 3284 2573 2206\n",
      " 4815 2526 4502 2710 2090 3038 3142 3442 4064 2529 3039 2061 3644 2104\n",
      " 2044 3043 2873 2541 2321 2079 3072 2007 2620 2231 2580 2020 2852 3677\n",
      " 4818 4519 4806 4610 4512 4306 4304 4301 4205 4051 4130 4115 4164 4128\n",
      " 3940 3939 3840 3804 2582 3747 3620 3151 3380 3280 3224 3222 3226 3190\n",
      " 3169 3163 3161 3791 4119 3140 3818 3106 3099 3754 3756 3061 3048 3036\n",
      " 3107 3022 3049 2870 2762 2794 2773 2640 2439 2528 2440 2325 2161 2848\n",
      " 4878 2775 2224 3219 2441 4877 3264 2681 3018 2043 2107 4567 4011 2221\n",
      " 2028 3941 3146 3585 4105 2094 2284 3808 3149 3114 3352 3129 4154 2114\n",
      " 4721 2011 4157 4799 2095 3103 4224 4344 2009 3144 3181 2665 2474 3166\n",
      " 2820 4059 4160 3189 4030 2042 4032 4103 2868 2358 2449 2299 4014 3056\n",
      " 2281 4007 2318 3821 4109 4216 2470 2563 2264 2445 4060 3214 4077 2327\n",
      " 4104 3172 2505 2115 2469 2705 3088 3966 3912 2446 2810 4061 3083 3915\n",
      " 4153 2267 3458 4421 3505 3006 4037 3918 2335 3079 2400 3148 2092 2714\n",
      " 3555 2008 3631 4228 4101 2022 4568 3115 4343 3116 2208 4125 4070 3194\n",
      " 2533 2758 4159 4879 2500 2298 2178 3240 2671 4455 4650 3160 3250 3342\n",
      " 3523 2350 2785 3995 3351 3000 2462 3041 3260 2534 4565 3618 2780 2167\n",
      " 3279 4106 4700 2799 4564 4860 3922 2256 4031 2779 4660 4073 3067 2843\n",
      " 3027 3066 2572 2128 4054 4069 2343 3377 3065 2295 4270 2316 3179 3933\n",
      " 4883 2081 2471 3053 4285 2546 4275 3132 3042 3085 2071 2821 4390 3793\n",
      " 3128 2869 3616 4750 3059 3153 2130 3213 3862 3610 4102 2060 3786 2019\n",
      " 2191 2713 3094 3122 2850 4272 3051 3634 3803 4515 2700 3123 2294 3978\n",
      " 3305 2198 2778 4730 4155 4000 4225 3556 4575 4715 2429 4555 2132 2045\n",
      " 2024 4076 3321 3193 2390 2806 2257 4172 3078 3104 3860 2658 3052 4163\n",
      " 2590 2550 2877 4311 3089]\n",
      "\n",
      "state have 5 unique values: object\n",
      "state values: ['New South Wales' 'QLD' 'VIC' 'NSW' 'Victoria']\n",
      "\n",
      "country have 1 unique values: object\n",
      "country values: ['Australia']\n",
      "\n",
      "property_valuation have 12 unique values: int64\n",
      "property_valuation values: [10  9  4 12  8  6  7  3  5 11  1  2]\n",
      "\n"
     ]
    }
   ],
   "source": [
    "# Checking unique value of each columns\n",
    "for col in df_addr.columns:\n",
    "    print(\"{} have {} unique values: {}\".format(col, df_addr[col].nunique(), df_addr[col].dtypes))\n",
    "    if df_addr[col].dtypes == 'int64' or df_addr[col].dtypes == 'object':\n",
    "        print(\"{} values: {}\".format(col,df_addr[col].unique()))\n",
    "        print('')"
   ]
  },
  {
   "cell_type": "code",
   "execution_count": 46,
   "id": "b0a4ca7a-d3f8-4dea-9738-9eb5b23febf9",
   "metadata": {},
   "outputs": [
    {
     "name": "stdout",
     "output_type": "stream",
     "text": [
      "['customer_id', 'postcode', 'property_valuation']\n",
      "Counts : 3\n"
     ]
    }
   ],
   "source": [
    "# numerical data\n",
    "nums_a = df_addr.loc[:, (df_addr.dtypes == 'int64')].columns.tolist()\n",
    "print(nums_a)\n",
    "print('Counts :', len(nums_a))"
   ]
  },
  {
   "cell_type": "code",
   "execution_count": 47,
   "id": "46ba81bb-19b4-4ebf-9429-ae5904e9127a",
   "metadata": {},
   "outputs": [
    {
     "name": "stdout",
     "output_type": "stream",
     "text": [
      "['address', 'state', 'country']\n",
      "Counts : 3\n"
     ]
    }
   ],
   "source": [
    "# categorical data\n",
    "cats_a = df_addr.loc[:, (df_addr.dtypes == object)].columns.tolist()\n",
    "print(cats_a)\n",
    "print('Counts :', len(cats_a))"
   ]
  },
  {
   "cell_type": "markdown",
   "id": "6324c4f3-898a-4a00-af51-9037bb206131",
   "metadata": {},
   "source": [
    "🔎 **Observation :**\n",
    "- The dataset consists of **3999 records** and **6 columns**, with **3 numerical** and **3 categorical columns**.\n",
    "- The data type in each column is appropriate.\n",
    "- There are inconsistent value in the **state** column, so it needs to be treated."
   ]
  },
  {
   "cell_type": "markdown",
   "id": "47bc509d-a769-49f1-8b06-fe9ddf0776f7",
   "metadata": {},
   "source": [
    "#### 1.2 Checking Missing Values"
   ]
  },
  {
   "cell_type": "code",
   "execution_count": 48,
   "id": "20f0bf98-bb63-43b9-b8f3-5eb9ae2dcf0d",
   "metadata": {},
   "outputs": [
    {
     "name": "stdout",
     "output_type": "stream",
     "text": [
      "Percentages missing value of dataset : 0.0 %\n"
     ]
    }
   ],
   "source": [
    "# percentages missing value of dataset\n",
    "nan_df = df_addr[df_addr.isna().any(axis=1)]\n",
    "nan_percent = round(len(nan_df)/len(df_addr)*100, 2)\n",
    "print('Percentages missing value of dataset :', nan_percent, '%')"
   ]
  },
  {
   "cell_type": "markdown",
   "id": "9f0184cb-c1d7-47cd-8914-c6255ae05b1c",
   "metadata": {},
   "source": [
    "🔎 **Observation :**\n",
    "There is **no missing values**."
   ]
  },
  {
   "cell_type": "markdown",
   "id": "d574bd1b-34cd-4b14-aed0-b6453adba798",
   "metadata": {},
   "source": [
    "#### 1.3 Checking Duplicate Records"
   ]
  },
  {
   "cell_type": "code",
   "execution_count": 49,
   "id": "6374f3a3-44dc-4822-9823-631eb1360c7f",
   "metadata": {},
   "outputs": [
    {
     "data": {
      "text/plain": [
       "False"
      ]
     },
     "execution_count": 49,
     "metadata": {},
     "output_type": "execute_result"
    }
   ],
   "source": [
    "# checking duplicated data\n",
    "df_addr.duplicated().any()"
   ]
  },
  {
   "cell_type": "markdown",
   "id": "1d90e35b-8625-4050-bfda-d4d22666d229",
   "metadata": {},
   "source": [
    "🔎 **Observation :**\n",
    "There is **no duplicate data**."
   ]
  },
  {
   "cell_type": "markdown",
   "id": "3068d3fd-25c7-4733-9401-9cae3ee395e7",
   "metadata": {},
   "source": [
    "#### 1.4. Statistical Summary"
   ]
  },
  {
   "cell_type": "code",
   "execution_count": 50,
   "id": "850492be-071e-426b-a4eb-a2f7027b8300",
   "metadata": {},
   "outputs": [
    {
     "data": {
      "text/html": [
       "<div>\n",
       "<style scoped>\n",
       "    .dataframe tbody tr th:only-of-type {\n",
       "        vertical-align: middle;\n",
       "    }\n",
       "\n",
       "    .dataframe tbody tr th {\n",
       "        vertical-align: top;\n",
       "    }\n",
       "\n",
       "    .dataframe thead th {\n",
       "        text-align: right;\n",
       "    }\n",
       "</style>\n",
       "<table border=\"1\" class=\"dataframe\">\n",
       "  <thead>\n",
       "    <tr style=\"text-align: right;\">\n",
       "      <th></th>\n",
       "      <th>count</th>\n",
       "      <th>mean</th>\n",
       "      <th>std</th>\n",
       "      <th>min</th>\n",
       "      <th>25%</th>\n",
       "      <th>50%</th>\n",
       "      <th>75%</th>\n",
       "      <th>max</th>\n",
       "    </tr>\n",
       "  </thead>\n",
       "  <tbody>\n",
       "    <tr>\n",
       "      <th>customer_id</th>\n",
       "      <td>3999.0</td>\n",
       "      <td>2003.987997</td>\n",
       "      <td>1154.576912</td>\n",
       "      <td>1.0</td>\n",
       "      <td>1004.5</td>\n",
       "      <td>2004.0</td>\n",
       "      <td>3003.5</td>\n",
       "      <td>4003.0</td>\n",
       "    </tr>\n",
       "    <tr>\n",
       "      <th>postcode</th>\n",
       "      <td>3999.0</td>\n",
       "      <td>2985.755939</td>\n",
       "      <td>844.878364</td>\n",
       "      <td>2000.0</td>\n",
       "      <td>2200.0</td>\n",
       "      <td>2768.0</td>\n",
       "      <td>3750.0</td>\n",
       "      <td>4883.0</td>\n",
       "    </tr>\n",
       "    <tr>\n",
       "      <th>property_valuation</th>\n",
       "      <td>3999.0</td>\n",
       "      <td>7.514379</td>\n",
       "      <td>2.824663</td>\n",
       "      <td>1.0</td>\n",
       "      <td>6.0</td>\n",
       "      <td>8.0</td>\n",
       "      <td>10.0</td>\n",
       "      <td>12.0</td>\n",
       "    </tr>\n",
       "  </tbody>\n",
       "</table>\n",
       "</div>"
      ],
      "text/plain": [
       "                     count         mean          std     min     25%     50%  \\\n",
       "customer_id         3999.0  2003.987997  1154.576912     1.0  1004.5  2004.0   \n",
       "postcode            3999.0  2985.755939   844.878364  2000.0  2200.0  2768.0   \n",
       "property_valuation  3999.0     7.514379     2.824663     1.0     6.0     8.0   \n",
       "\n",
       "                       75%     max  \n",
       "customer_id         3003.5  4003.0  \n",
       "postcode            3750.0  4883.0  \n",
       "property_valuation    10.0    12.0  "
      ]
     },
     "execution_count": 50,
     "metadata": {},
     "output_type": "execute_result"
    }
   ],
   "source": [
    "# numerical\n",
    "df_addr[nums_a].describe().T"
   ]
  },
  {
   "cell_type": "code",
   "execution_count": 51,
   "id": "ab1c04f3-efea-4c71-b92a-4bf17757ba51",
   "metadata": {},
   "outputs": [
    {
     "data": {
      "text/html": [
       "<div>\n",
       "<style scoped>\n",
       "    .dataframe tbody tr th:only-of-type {\n",
       "        vertical-align: middle;\n",
       "    }\n",
       "\n",
       "    .dataframe tbody tr th {\n",
       "        vertical-align: top;\n",
       "    }\n",
       "\n",
       "    .dataframe thead th {\n",
       "        text-align: right;\n",
       "    }\n",
       "</style>\n",
       "<table border=\"1\" class=\"dataframe\">\n",
       "  <thead>\n",
       "    <tr style=\"text-align: right;\">\n",
       "      <th></th>\n",
       "      <th>count</th>\n",
       "      <th>unique</th>\n",
       "      <th>top</th>\n",
       "      <th>freq</th>\n",
       "    </tr>\n",
       "  </thead>\n",
       "  <tbody>\n",
       "    <tr>\n",
       "      <th>address</th>\n",
       "      <td>3999</td>\n",
       "      <td>3996</td>\n",
       "      <td>3 Mariners Cove Terrace</td>\n",
       "      <td>2</td>\n",
       "    </tr>\n",
       "    <tr>\n",
       "      <th>state</th>\n",
       "      <td>3999</td>\n",
       "      <td>5</td>\n",
       "      <td>NSW</td>\n",
       "      <td>2054</td>\n",
       "    </tr>\n",
       "    <tr>\n",
       "      <th>country</th>\n",
       "      <td>3999</td>\n",
       "      <td>1</td>\n",
       "      <td>Australia</td>\n",
       "      <td>3999</td>\n",
       "    </tr>\n",
       "  </tbody>\n",
       "</table>\n",
       "</div>"
      ],
      "text/plain": [
       "        count unique                      top  freq\n",
       "address  3999   3996  3 Mariners Cove Terrace     2\n",
       "state    3999      5                      NSW  2054\n",
       "country  3999      1                Australia  3999"
      ]
     },
     "execution_count": 51,
     "metadata": {},
     "output_type": "execute_result"
    }
   ],
   "source": [
    "# categorical\n",
    "df_addr[cats_a].describe().T"
   ]
  },
  {
   "cell_type": "markdown",
   "id": "fab91427-7e82-488e-b8be-6184dd786711",
   "metadata": {},
   "source": [
    "#### 1.5 Checking Distribution"
   ]
  },
  {
   "cell_type": "code",
   "execution_count": 52,
   "id": "ac93cea0-2309-4ad6-8db2-ddc5f079d29a",
   "metadata": {},
   "outputs": [
    {
     "data": {
      "image/png": "[encoded data removed]",
      "text/plain": [
       "<Figure size 800x200 with 3 Axes>"
      ]
     },
     "metadata": {},
     "output_type": "display_data"
    }
   ],
   "source": [
    "# distribution numerical data\n",
    "plt.figure(figsize=(8, 2))\n",
    "for i in range(0, len(nums_a)):\n",
    "    plt.subplot(1, len(nums_a), i+1)\n",
    "    sns.distplot(df_addr[nums_a[i]], color='yellowgreen')\n",
    "    plt.tight_layout()"
   ]
  },
  {
   "cell_type": "code",
   "execution_count": 53,
   "id": "50db6fec-6a77-413b-b44b-05c2d685b72d",
   "metadata": {},
   "outputs": [
    {
     "data": {
      "image/png": "[encoded data removed]",
      "text/plain": [
       "<Figure size 600x200 with 3 Axes>"
      ]
     },
     "metadata": {},
     "output_type": "display_data"
    }
   ],
   "source": [
    "# distribution numerical data and check outlier\n",
    "plt.figure(figsize=(6, 2))\n",
    "for i in range(0, len(nums_a)):\n",
    "    plt.subplot(1, len(nums_a), i+1)\n",
    "    sns.boxplot(y=df_addr[nums_a[i]], color='yellowgreen', orient='v')\n",
    "    plt.tight_layout()"
   ]
  },
  {
   "cell_type": "code",
   "execution_count": 54,
   "id": "7c8f8084-4cac-41ac-8b40-ca3d18da854b",
   "metadata": {},
   "outputs": [
    {
     "data": {
      "image/png": "[encoded data removed]",
      "text/plain": [
       "<Figure size 800x800 with 3 Axes>"
      ]
     },
     "metadata": {},
     "output_type": "display_data"
    }
   ],
   "source": [
    "plt.figure(figsize=(8, 8))\n",
    "for i in range(0, len(cats_a)):\n",
    "    plt.subplot(3, 1, i+1)\n",
    "    sns.countplot(x=df_addr[cats_a[i]], color='yellowgreen', orient='v')\n",
    "    plt.tight_layout()"
   ]
  },
  {
   "cell_type": "markdown",
   "id": "3bff2db6-2e30-4605-a4a4-20822db43120",
   "metadata": {},
   "source": [
    "🔎 **Observation :**\n",
    "- **property_valuation**: negtively skewed.\n",
    "- There are **no outlier**."
   ]
  },
  {
   "cell_type": "markdown",
   "id": "e77b1c8e-453d-4391-b91e-9295f0cd1ced",
   "metadata": {},
   "source": [
    "### **2. Data Cleaning**"
   ]
  },
  {
   "cell_type": "markdown",
   "id": "b7693fec-595f-4508-98ae-4176fa1a92ce",
   "metadata": {},
   "source": [
    "#### 2.1. Handling Incorrect Values"
   ]
  },
  {
   "cell_type": "code",
   "execution_count": 55,
   "id": "ff1f4437-58ec-4f6b-ba33-72180ddadd14",
   "metadata": {},
   "outputs": [],
   "source": [
    "df_addr1 = df_addr.copy()"
   ]
  },
  {
   "cell_type": "markdown",
   "id": "b8d687f0-b56a-4960-b87a-df0eae4894ba",
   "metadata": {},
   "source": [
    "🔽 **`state`**\n",
    "> There are inconsistentcy values in columns **state**. So I have replace 'New South Wales' to 'NSW' and 'Victoria' to 'VIC'."
   ]
  },
  {
   "cell_type": "code",
   "execution_count": 56,
   "id": "d8ab65cd-ab32-4425-9c5b-001abbc04aad",
   "metadata": {},
   "outputs": [
    {
     "data": {
      "text/plain": [
       "NSW                2054\n",
       "VIC                 939\n",
       "QLD                 838\n",
       "New South Wales      86\n",
       "Victoria             82\n",
       "Name: state, dtype: int64"
      ]
     },
     "execution_count": 56,
     "metadata": {},
     "output_type": "execute_result"
    }
   ],
   "source": [
    "# checking value counts state\n",
    "df_addr1['state'].value_counts()"
   ]
  },
  {
   "cell_type": "code",
   "execution_count": 57,
   "id": "fcd94603-6ec3-4186-b7b5-e274ac9e3118",
   "metadata": {},
   "outputs": [],
   "source": [
    "# replace values\n",
    "df_addr1['state'].replace(['New South Wales', 'Victoria'], ['NSW', 'VIC'], inplace=True)"
   ]
  },
  {
   "cell_type": "code",
   "execution_count": 58,
   "id": "e798920b-5160-4e62-9cfc-c151c2f3b785",
   "metadata": {},
   "outputs": [
    {
     "data": {
      "text/plain": [
       "NSW    2140\n",
       "VIC    1021\n",
       "QLD     838\n",
       "Name: state, dtype: int64"
      ]
     },
     "execution_count": 58,
     "metadata": {},
     "output_type": "execute_result"
    }
   ],
   "source": [
    "df_addr1['state'].value_counts()"
   ]
  },
  {
   "cell_type": "markdown",
   "id": "135d8bea-b3a2-4e8e-91ad-2efe1dd4696b",
   "metadata": {},
   "source": [
    "The valu has been correct ✅"
   ]
  },
  {
   "cell_type": "markdown",
   "id": "8664a564-020c-4871-a008-0eaa63199971",
   "metadata": {},
   "source": [
    "### **3. Save Clean Dataset**"
   ]
  },
  {
   "cell_type": "code",
   "execution_count": 59,
   "id": "4d921326-8922-43ad-91c8-0319cd2f9038",
   "metadata": {},
   "outputs": [],
   "source": [
    "df_addr1.to_csv('CustomerAddress_CLEAN.csv', index=False)"
   ]
  },
  {
   "cell_type": "markdown",
   "id": "0cc6430c-1897-4a80-8116-29ac1db47df8",
   "metadata": {},
   "source": [
    "<br>\n",
    "<br>"
   ]
  },
  {
   "cell_type": "markdown",
   "id": "82ba48ad-d831-4644-91d5-bdd5d6f9b1f7",
   "metadata": {},
   "source": [
    "# **Transaction**\n",
    "---"
   ]
  },
  {
   "cell_type": "markdown",
   "id": "d46ecaed-0fc0-4aa1-a0e4-e66a02895479",
   "metadata": {},
   "source": [
    "### **1. Exploratory Data Analysis**"
   ]
  },
  {
   "cell_type": "markdown",
   "id": "ba86be05-51ed-4cd1-86af-03f6b465f083",
   "metadata": {},
   "source": [
    "#### 1.1 Checking Data Type and Unique Values"
   ]
  },
  {
   "cell_type": "code",
   "execution_count": 60,
   "id": "6631fb9a-27ca-42f7-acca-9593a32cf795",
   "metadata": {},
   "outputs": [
    {
     "data": {
      "text/html": [
       "<div>\n",
       "<style scoped>\n",
       "    .dataframe tbody tr th:only-of-type {\n",
       "        vertical-align: middle;\n",
       "    }\n",
       "\n",
       "    .dataframe tbody tr th {\n",
       "        vertical-align: top;\n",
       "    }\n",
       "\n",
       "    .dataframe thead th {\n",
       "        text-align: right;\n",
       "    }\n",
       "</style>\n",
       "<table border=\"1\" class=\"dataframe\">\n",
       "  <thead>\n",
       "    <tr style=\"text-align: right;\">\n",
       "      <th></th>\n",
       "      <th>transaction_id</th>\n",
       "      <th>product_id</th>\n",
       "      <th>customer_id</th>\n",
       "      <th>transaction_date</th>\n",
       "      <th>online_order</th>\n",
       "      <th>order_status</th>\n",
       "      <th>brand</th>\n",
       "      <th>product_line</th>\n",
       "      <th>product_class</th>\n",
       "      <th>product_size</th>\n",
       "      <th>...</th>\n",
       "      <th>Unnamed: 16</th>\n",
       "      <th>Unnamed: 17</th>\n",
       "      <th>Unnamed: 18</th>\n",
       "      <th>Unnamed: 19</th>\n",
       "      <th>Unnamed: 20</th>\n",
       "      <th>Unnamed: 21</th>\n",
       "      <th>Unnamed: 22</th>\n",
       "      <th>Unnamed: 23</th>\n",
       "      <th>Unnamed: 24</th>\n",
       "      <th>Unnamed: 25</th>\n",
       "    </tr>\n",
       "  </thead>\n",
       "  <tbody>\n",
       "    <tr>\n",
       "      <th>12180</th>\n",
       "      <td>12181.0</td>\n",
       "      <td>49.0</td>\n",
       "      <td>2221.0</td>\n",
       "      <td>2/3/2017</td>\n",
       "      <td>True</td>\n",
       "      <td>Approved</td>\n",
       "      <td>Trek Bicycles</td>\n",
       "      <td>Road</td>\n",
       "      <td>medium</td>\n",
       "      <td>medium</td>\n",
       "      <td>...</td>\n",
       "      <td>NaN</td>\n",
       "      <td>NaN</td>\n",
       "      <td>NaN</td>\n",
       "      <td>NaN</td>\n",
       "      <td>NaN</td>\n",
       "      <td>NaN</td>\n",
       "      <td>NaN</td>\n",
       "      <td>NaN</td>\n",
       "      <td>NaN</td>\n",
       "      <td>NaN</td>\n",
       "    </tr>\n",
       "    <tr>\n",
       "      <th>18343</th>\n",
       "      <td>18344.0</td>\n",
       "      <td>74.0</td>\n",
       "      <td>2364.0</td>\n",
       "      <td>6/25/2017</td>\n",
       "      <td>True</td>\n",
       "      <td>Approved</td>\n",
       "      <td>WeareA2B</td>\n",
       "      <td>Standard</td>\n",
       "      <td>medium</td>\n",
       "      <td>medium</td>\n",
       "      <td>...</td>\n",
       "      <td>NaN</td>\n",
       "      <td>NaN</td>\n",
       "      <td>NaN</td>\n",
       "      <td>NaN</td>\n",
       "      <td>NaN</td>\n",
       "      <td>NaN</td>\n",
       "      <td>NaN</td>\n",
       "      <td>NaN</td>\n",
       "      <td>NaN</td>\n",
       "      <td>NaN</td>\n",
       "    </tr>\n",
       "    <tr>\n",
       "      <th>8839</th>\n",
       "      <td>8840.0</td>\n",
       "      <td>72.0</td>\n",
       "      <td>1621.0</td>\n",
       "      <td>2/15/2017</td>\n",
       "      <td>False</td>\n",
       "      <td>Approved</td>\n",
       "      <td>Norco Bicycles</td>\n",
       "      <td>Standard</td>\n",
       "      <td>medium</td>\n",
       "      <td>medium</td>\n",
       "      <td>...</td>\n",
       "      <td>NaN</td>\n",
       "      <td>NaN</td>\n",
       "      <td>NaN</td>\n",
       "      <td>NaN</td>\n",
       "      <td>NaN</td>\n",
       "      <td>NaN</td>\n",
       "      <td>NaN</td>\n",
       "      <td>NaN</td>\n",
       "      <td>NaN</td>\n",
       "      <td>NaN</td>\n",
       "    </tr>\n",
       "    <tr>\n",
       "      <th>7720</th>\n",
       "      <td>7721.0</td>\n",
       "      <td>19.0</td>\n",
       "      <td>765.0</td>\n",
       "      <td>8/18/2017</td>\n",
       "      <td>True</td>\n",
       "      <td>Approved</td>\n",
       "      <td>OHM Cycles</td>\n",
       "      <td>Road</td>\n",
       "      <td>high</td>\n",
       "      <td>large</td>\n",
       "      <td>...</td>\n",
       "      <td>NaN</td>\n",
       "      <td>NaN</td>\n",
       "      <td>NaN</td>\n",
       "      <td>NaN</td>\n",
       "      <td>NaN</td>\n",
       "      <td>NaN</td>\n",
       "      <td>NaN</td>\n",
       "      <td>NaN</td>\n",
       "      <td>NaN</td>\n",
       "      <td>NaN</td>\n",
       "    </tr>\n",
       "    <tr>\n",
       "      <th>5265</th>\n",
       "      <td>5266.0</td>\n",
       "      <td>91.0</td>\n",
       "      <td>2725.0</td>\n",
       "      <td>7/2/2017</td>\n",
       "      <td>False</td>\n",
       "      <td>Approved</td>\n",
       "      <td>Solex</td>\n",
       "      <td>Standard</td>\n",
       "      <td>medium</td>\n",
       "      <td>medium</td>\n",
       "      <td>...</td>\n",
       "      <td>NaN</td>\n",
       "      <td>NaN</td>\n",
       "      <td>NaN</td>\n",
       "      <td>NaN</td>\n",
       "      <td>NaN</td>\n",
       "      <td>NaN</td>\n",
       "      <td>NaN</td>\n",
       "      <td>NaN</td>\n",
       "      <td>NaN</td>\n",
       "      <td>NaN</td>\n",
       "    </tr>\n",
       "  </tbody>\n",
       "</table>\n",
       "<p>5 rows × 26 columns</p>\n",
       "</div>"
      ],
      "text/plain": [
       "       transaction_id  product_id  customer_id transaction_date online_order  \\\n",
       "12180         12181.0        49.0       2221.0         2/3/2017         True   \n",
       "18343         18344.0        74.0       2364.0        6/25/2017         True   \n",
       "8839           8840.0        72.0       1621.0        2/15/2017        False   \n",
       "7720           7721.0        19.0        765.0        8/18/2017         True   \n",
       "5265           5266.0        91.0       2725.0         7/2/2017        False   \n",
       "\n",
       "      order_status           brand product_line product_class product_size  \\\n",
       "12180     Approved   Trek Bicycles         Road        medium       medium   \n",
       "18343     Approved        WeareA2B     Standard        medium       medium   \n",
       "8839      Approved  Norco Bicycles     Standard        medium       medium   \n",
       "7720      Approved      OHM Cycles         Road          high        large   \n",
       "5265      Approved           Solex     Standard        medium       medium   \n",
       "\n",
       "       ...  Unnamed: 16 Unnamed: 17  Unnamed: 18  Unnamed: 19  Unnamed: 20  \\\n",
       "12180  ...          NaN         NaN          NaN          NaN          NaN   \n",
       "18343  ...          NaN         NaN          NaN          NaN          NaN   \n",
       "8839   ...          NaN         NaN          NaN          NaN          NaN   \n",
       "7720   ...          NaN         NaN          NaN          NaN          NaN   \n",
       "5265   ...          NaN         NaN          NaN          NaN          NaN   \n",
       "\n",
       "       Unnamed: 21  Unnamed: 22  Unnamed: 23  Unnamed: 24  Unnamed: 25  \n",
       "12180          NaN          NaN          NaN          NaN          NaN  \n",
       "18343          NaN          NaN          NaN          NaN          NaN  \n",
       "8839           NaN          NaN          NaN          NaN          NaN  \n",
       "7720           NaN          NaN          NaN          NaN          NaN  \n",
       "5265           NaN          NaN          NaN          NaN          NaN  \n",
       "\n",
       "[5 rows x 26 columns]"
      ]
     },
     "execution_count": 60,
     "metadata": {},
     "output_type": "execute_result"
    }
   ],
   "source": [
    "# sampling dataset\n",
    "df_tran.sample(5)"
   ]
  },
  {
   "cell_type": "code",
   "execution_count": 61,
   "id": "fe9e3e30-ae5f-47cf-9383-0ae0d08e63f5",
   "metadata": {},
   "outputs": [
    {
     "data": {
      "text/plain": [
       "(20001, 26)"
      ]
     },
     "execution_count": 61,
     "metadata": {},
     "output_type": "execute_result"
    }
   ],
   "source": [
    "# checking shape\n",
    "df_tran.shape"
   ]
  },
  {
   "cell_type": "code",
   "execution_count": 62,
   "id": "cc6d592c-90b5-49ae-8731-8ed3cd6705a4",
   "metadata": {},
   "outputs": [
    {
     "name": "stdout",
     "output_type": "stream",
     "text": [
      "<class 'pandas.core.frame.DataFrame'>\n",
      "RangeIndex: 20001 entries, 0 to 20000\n",
      "Data columns (total 26 columns):\n",
      " #   Column                   Non-Null Count  Dtype  \n",
      "---  ------                   --------------  -----  \n",
      " 0   transaction_id           20000 non-null  float64\n",
      " 1   product_id               20000 non-null  float64\n",
      " 2   customer_id              20000 non-null  float64\n",
      " 3   transaction_date         20000 non-null  object \n",
      " 4   online_order             19640 non-null  object \n",
      " 5   order_status             20000 non-null  object \n",
      " 6   brand                    19803 non-null  object \n",
      " 7   product_line             19803 non-null  object \n",
      " 8   product_class            19803 non-null  object \n",
      " 9   product_size             19803 non-null  object \n",
      " 10  list_price               20000 non-null  float64\n",
      " 11  standard_cost            19803 non-null  object \n",
      " 12  product_first_sold_date  19803 non-null  float64\n",
      " 13  Unnamed: 13              0 non-null      float64\n",
      " 14  Unnamed: 14              0 non-null      float64\n",
      " 15  Unnamed: 15              0 non-null      float64\n",
      " 16  Unnamed: 16              0 non-null      float64\n",
      " 17  Unnamed: 17              0 non-null      float64\n",
      " 18  Unnamed: 18              0 non-null      float64\n",
      " 19  Unnamed: 19              0 non-null      float64\n",
      " 20  Unnamed: 20              0 non-null      float64\n",
      " 21  Unnamed: 21              0 non-null      float64\n",
      " 22  Unnamed: 22              0 non-null      float64\n",
      " 23  Unnamed: 23              0 non-null      float64\n",
      " 24  Unnamed: 24              0 non-null      float64\n",
      " 25  Unnamed: 25              0 non-null      float64\n",
      "dtypes: float64(18), object(8)\n",
      "memory usage: 4.0+ MB\n"
     ]
    }
   ],
   "source": [
    "# checking dataset info\n",
    "df_tran.info()"
   ]
  },
  {
   "cell_type": "code",
   "execution_count": 63,
   "id": "3e464e0a-3ac2-4175-bad6-fa430e1d066f",
   "metadata": {},
   "outputs": [
    {
     "name": "stdout",
     "output_type": "stream",
     "text": [
      "transaction_id have 20000 unique values: float64\n",
      "transaction_id values: [1.0000e+00 2.0000e+00 3.0000e+00 ... 1.9999e+04 2.0000e+04        nan]\n",
      "\n",
      "product_id have 101 unique values: float64\n",
      "product_id values: [  2.   3.  37.  88.  78.  25.  22.  15.  67.  12.   5.  61.  35.  16.\n",
      "  79.  33.  54.  27.  82.  89.  64.  19.  72.  91.   1.  99.   0.  92.\n",
      "  14.  44.  76.  46.  55.  66.  81.  86.  32.  77.  96.   6.  47.  94.\n",
      "  93.  60.  28.   4.  38.  56.  58.  50.  80.  87.  84.  21.  31.  62.\n",
      "  17.  73.  45.  49.  95.  18.  70.  26.  39.  36.  98.  75.  42.  20.\n",
      "  24.  53.  65.  29.  11.  10.   7.  41.   9.  69.  90.  97. 100.  74.\n",
      "  71.  34.  57.  23.  51.  59.  63.  40.   8.  13.  30.  48.  68.  83.\n",
      "  43.  52.  85.  nan]\n",
      "\n",
      "customer_id have 3494 unique values: float64\n",
      "customer_id values: [2950. 3120.  402. ... 2789. 3446.   nan]\n",
      "\n",
      "transaction_date have 364 unique values: object\n",
      "transaction_date values: ['2/25/2017' '5/21/2017' '10/16/2017' '8/31/2017' '10/1/2017' '3/8/2017'\n",
      " '4/21/2017' '7/15/2017' '8/10/2017' '8/30/2017' '1/17/2017' '1/5/2017'\n",
      " '2/26/2017' '9/10/2017' '6/11/2017' '10/10/2017' '4/3/2017' '6/2/2017'\n",
      " '4/6/2017' '1/28/2017' '10/9/2017' '6/29/2017' '4/8/2017' '10/18/2017'\n",
      " '1/10/2017' '4/11/2017' '12/23/2017' '10/13/2017' '3/15/2017' '9/5/2017'\n",
      " '2/18/2017' '3/20/2017' '2/28/2017' '8/20/2017' '7/7/2017' '1/9/2017'\n",
      " '12/6/2017' '9/12/2017' '11/28/2017' '5/8/2017' '5/14/2017' '3/17/2017'\n",
      " '12/22/2017' '6/7/2017' '6/20/2017' '5/7/2017' '6/10/2017' '6/17/2017'\n",
      " '5/10/2017' '3/24/2017' '11/27/2017' '12/21/2017' '2/9/2017' '9/18/2017'\n",
      " '11/14/2017' '2/15/2017' '12/18/2017' '2/24/2017' '12/17/2017' '7/8/2017'\n",
      " '5/16/2017' '2/23/2017' '7/3/2017' '9/30/2017' '10/21/2017' '5/6/2017'\n",
      " '1/3/2017' '5/9/2017' '7/23/2017' '1/21/2017' '3/10/2017' '11/7/2017'\n",
      " '12/16/2017' '10/7/2017' '4/27/2017' '4/1/2017' '11/2/2017' '2/13/2017'\n",
      " '7/19/2017' '5/23/2017' '8/6/2017' '4/4/2017' '8/15/2017' '4/15/2017'\n",
      " '7/25/2017' '2/21/2017' '5/31/2017' '6/23/2017' '3/26/2017' '7/31/2017'\n",
      " '7/27/2017' '4/14/2017' '11/12/2017' '10/26/2017' '10/11/2017'\n",
      " '3/27/2017' '11/4/2017' '10/24/2017' '5/1/2017' '11/21/2017' '3/21/2017'\n",
      " '2/20/2017' '6/16/2017' '12/4/2017' '12/1/2017' '3/5/2017' '3/16/2017'\n",
      " '6/5/2017' '9/4/2017' '1/18/2017' '9/28/2017' '9/2/2017' '10/17/2017'\n",
      " '4/25/2017' '9/23/2017' '8/2/2017' '3/25/2017' '1/1/2017' '12/25/2017'\n",
      " '1/26/2017' '12/20/2017' '1/13/2017' '11/11/2017' '8/19/2017' '8/22/2017'\n",
      " '9/15/2017' '3/1/2017' '8/16/2017' '8/27/2017' '7/10/2017' '12/11/2017'\n",
      " '5/20/2017' '7/30/2017' '10/25/2017' '4/26/2017' '2/2/2017' '5/2/2017'\n",
      " '10/22/2017' '11/16/2017' '3/30/2017' '4/13/2017' '1/31/2017' '3/18/2017'\n",
      " '1/7/2017' '7/5/2017' '11/19/2017' '11/8/2017' '7/24/2017' '1/15/2017'\n",
      " '1/12/2017' '6/30/2017' '6/22/2017' '12/27/2017' '6/8/2017' '7/29/2017'\n",
      " '5/27/2017' '5/5/2017' '9/9/2017' '9/22/2017' '4/12/2017' '12/14/2017'\n",
      " '3/22/2017' '11/29/2017' '6/9/2017' '11/13/2017' '4/9/2017' '11/30/2017'\n",
      " '3/13/2017' '8/12/2017' '8/4/2017' '9/1/2017' '7/2/2017' '3/11/2017'\n",
      " '10/8/2017' '11/23/2017' '1/22/2017' '1/29/2017' '7/21/2017' '2/10/2017'\n",
      " '11/25/2017' '12/3/2017' '12/30/2017' '7/26/2017' '6/15/2017' '7/6/2017'\n",
      " '12/28/2017' '1/30/2017' '6/26/2017' '8/13/2017' '1/25/2017' '7/11/2017'\n",
      " '4/30/2017' '5/19/2017' '5/26/2017' '2/3/2017' '4/28/2017' '3/23/2017'\n",
      " '6/3/2017' '5/4/2017' '3/29/2017' '10/3/2017' '8/7/2017' '2/7/2017'\n",
      " '11/20/2017' '4/5/2017' '10/28/2017' '8/25/2017' '1/20/2017' '3/14/2017'\n",
      " '5/24/2017' '11/18/2017' '4/7/2017' '1/4/2017' '12/13/2017' '4/20/2017'\n",
      " '3/7/2017' '8/1/2017' '6/19/2017' '1/23/2017' '4/19/2017' '8/11/2017'\n",
      " '11/15/2017' '11/1/2017' '10/5/2017' '10/30/2017' '1/2/2017' '7/9/2017'\n",
      " '10/20/2017' '11/10/2017' '8/14/2017' '9/13/2017' '5/3/2017' '1/24/2017'\n",
      " '8/3/2017' '8/28/2017' '6/24/2017' '10/27/2017' '3/3/2017' '12/2/2017'\n",
      " '10/15/2017' '10/12/2017' '3/19/2017' '6/27/2017' '2/27/2017' '3/12/2017'\n",
      " '6/14/2017' '2/17/2017' '9/14/2017' '4/17/2017' '5/11/2017' '11/3/2017'\n",
      " '10/2/2017' '12/10/2017' '5/25/2017' '8/26/2017' '9/6/2017' '4/24/2017'\n",
      " '12/15/2017' '2/12/2017' '7/22/2017' '9/26/2017' '12/5/2017' '3/31/2017'\n",
      " '11/22/2017' '4/29/2017' '7/14/2017' '9/8/2017' '4/22/2017' '1/11/2017'\n",
      " '8/9/2017' '5/29/2017' '6/13/2017' '7/28/2017' '4/23/2017' '7/4/2017'\n",
      " '10/19/2017' '9/21/2017' '4/2/2017' '8/18/2017' '8/21/2017' '3/6/2017'\n",
      " '1/16/2017' '2/22/2017' '3/9/2017' '1/27/2017' '12/19/2017' '4/16/2017'\n",
      " '10/4/2017' '2/16/2017' '8/17/2017' '2/1/2017' '12/8/2017' '8/23/2017'\n",
      " '5/12/2017' '3/4/2017' '5/28/2017' '7/20/2017' '7/13/2017' '10/14/2017'\n",
      " '6/12/2017' '2/14/2017' '2/11/2017' '10/23/2017' '6/28/2017' '6/4/2017'\n",
      " '4/18/2017' '9/16/2017' '5/15/2017' '5/22/2017' '6/6/2017' '12/9/2017'\n",
      " '7/18/2017' '2/6/2017' '11/9/2017' '6/21/2017' '7/17/2017' '10/29/2017'\n",
      " '5/13/2017' '10/6/2017' '2/4/2017' '11/5/2017' '2/8/2017' '11/6/2017'\n",
      " '9/20/2017' '4/10/2017' '11/17/2017' '12/7/2017' '12/12/2017' '1/19/2017'\n",
      " '5/17/2017' '2/19/2017' '9/19/2017' '9/29/2017' '5/18/2017' '7/1/2017'\n",
      " '12/29/2017' '11/24/2017' '1/8/2017' '8/24/2017' '7/12/2017' '8/8/2017'\n",
      " '2/5/2017' '7/16/2017' '9/27/2017' '1/14/2017' '3/28/2017' '8/29/2017'\n",
      " '9/24/2017' '10/31/2017' '12/24/2017' '9/3/2017' '9/17/2017' '8/5/2017'\n",
      " '6/18/2017' '9/7/2017' '9/25/2017' '6/1/2017' '11/26/2017' '9/11/2017'\n",
      " '1/6/2017' '12/26/2017' '3/2/2017' '5/30/2017' '6/25/2017' nan]\n",
      "\n",
      "online_order have 2 unique values: object\n",
      "online_order values: [False True nan]\n",
      "\n",
      "order_status have 2 unique values: object\n",
      "order_status values: ['Approved' 'Cancelled' nan]\n",
      "\n",
      "brand have 6 unique values: object\n",
      "brand values: ['Solex' 'Trek Bicycles' 'OHM Cycles' 'Norco Bicycles' 'Giant Bicycles'\n",
      " 'WeareA2B' nan]\n",
      "\n",
      "product_line have 4 unique values: object\n",
      "product_line values: ['Standard' 'Road' 'Mountain' 'Touring' nan]\n",
      "\n",
      "product_class have 3 unique values: object\n",
      "product_class values: ['medium' 'low' 'high' nan]\n",
      "\n",
      "product_size have 3 unique values: object\n",
      "product_size values: ['medium' 'large' 'small' nan]\n",
      "\n",
      "list_price have 296 unique values: float64\n",
      "list_price values: [  71.49 2091.47 1793.43 1198.46 1765.3  1538.99   60.34 1292.84 1071.23\n",
      " 1231.15  574.64   71.16 1057.51 1661.92 1555.58 1311.44  499.53 1362.99\n",
      " 1469.44  360.4   642.31 1403.5  1720.7   544.05 1415.01 1842.92 1769.64\n",
      " 2083.94 1289.85 1894.19 1163.89 1151.96  235.63  642.7  1240.31 1635.3\n",
      "  227.88  363.01  100.35 1458.17 1977.36   12.01 1216.14 1129.13  183.86\n",
      "  912.52  175.89 1073.07 1179.    958.74  792.9   290.62  752.64  478.16\n",
      " 1024.66 1945.43  441.49  533.51  569.56 1148.64  495.72 1992.93 1812.75\n",
      "  945.04  358.39 1873.97 1810.   1775.81 1777.8   795.34  575.27 1172.78\n",
      " 1065.03 1807.45 1942.61 1274.93 1890.39  980.37  416.98 1386.84  742.54\n",
      "  230.91  688.63  748.17 1466.68 1656.86  202.62 1036.59 1228.07  774.53\n",
      "  586.45 1762.96 2005.66 1483.2   590.26 1703.52 1577.53 1636.9  1280.28\n",
      " 1061.56  850.89  710.59  543.39 1227.34 1972.01  311.54  205.84  605.54\n",
      "  756.31  850.    571.27  294.35  149.3   447.25 1348.41 1021.43 1163.77\n",
      " 1294.66  638.29 1202.34  326.86  814.86 1102.68 1880.4  1541.62  639.38\n",
      "  402.14  710.55 1142.89  813.6  1833.17 1285.47 1678.71  437.51  366.22\n",
      " 1199.26 1888.45  237.44  317.3  1527.25 1563.94 1146.42 1192.33 1672.07\n",
      " 1099.68 1281.6  1220.66 1061.92 1502.93  398.08  101.55 1957.87 1095.66\n",
      " 1776.08  752.36  172.09 1740.16 1734.3   240.72 1958.34  330.36 1709.26\n",
      "   60.72 1193.44 2037.77 1349.47   56.21  126.36 1300.96 1697.27   26.15\n",
      "  875.99 1862.82 2028.26  678.25  890.28 1084.18 1107.08 1790.31  724.37\n",
      " 1095.65 1223.24  541.44  470.07 2052.92 1817.13 1473.09 1480.76 2012.84\n",
      " 1711.35  753.76  840.02 1922.94 1759.3   330.91 1029.36 1487.8  1624.69\n",
      " 1719.95  899.52  554.38  960.51 1978.64   36.78   74.89 1091.51  695.23\n",
      " 1148.41  750.25 1997.68 1392.76 1294.37  311.57  899.92  162.87 1678.51\n",
      " 1703.18  675.28  487.8  1292.13 1578.52  922.15  122.74  435.66 1409.68\n",
      " 1315.16 1233.12  758.73  405.94 1026.7   687.9   494.96 1181.89  465.71\n",
      "  880.3  1989.3  1413.98  483.12  753.01  883.91 1216.4    32.44   16.08\n",
      " 1184.    587.02 1919.23 1660.68 1224.41 1535.84  150.51 2062.95 1689.63\n",
      " 1934.41  889.05 1617.32 1788.93 2064.08 2020.14  489.58 2076.81 2061.38\n",
      "  877.44 1374.2   731.41 1034.17  156.56  643.95  517.53  226.94 1196.65\n",
      "  634.57 1571.83 1999.54 1562.88 1150.59  356.05 1780.22 1438.9   966.91\n",
      "  918.43 1541.1  1476.88 1023.39  310.57  356.39 1695.42  877.6  1401.63\n",
      " 2086.07 1761.75 1615.62  744.54 1098.18  868.56 1497.43  867.92     nan]\n",
      "\n",
      "standard_cost have 103 unique values: object\n",
      "standard_cost values: ['$53.62' '$388.92' '$248.82' '$381.10' '$709.48' '$829.65' '$45.26'\n",
      " '$13.44' '$380.74' '$161.60' '$459.71' '$56.93' '$154.40' '$1,479.11'\n",
      " '$818.01' '$1,167.18' '$388.72' '$57.74' '$596.55' '$270.30' '$513.85'\n",
      " '$954.82' '$1,531.42' '$376.84' '$1,259.36' '$1,105.75' '$108.76'\n",
      " '$675.03' '$74.51' '$598.76' '$589.27' '$649.49' '$125.07' '$211.37'\n",
      " '$795.10' '$993.66' '$136.73' '$290.41' '$75.26' '$874.90' '$1,759.85'\n",
      " '$7.21' '$1,082.36' '$677.48' '$137.90' '$141.40' '$131.92' '$933.84'\n",
      " '$707.40' '$748.90' '$594.68' '$215.14' '$205.36' '$298.72' '$614.80'\n",
      " '$333.18' '$84.99' '$400.13' '$528.43' '$689.18' '$297.43' '$762.63'\n",
      " '$582.48' '$507.58' '$215.03' '$863.95' '$1,610.90' '$1,580.47' '$820.78'\n",
      " '$101.58' '$431.45' '$1,043.77' '$230.09' '$778.69' nan '$764.96'\n",
      " '$260.14' '$234.43' '$312.74' '$1,234.29' '$667.40' '$173.18' '$612.88'\n",
      " '$448.90' '$363.25' '$151.96' '$206.35' '$400.91' '$464.72' '$521.94'\n",
      " '$950.52' '$1,203.40' '$99.59' '$525.33' '$1,516.13' '$826.51' '$44.71'\n",
      " '$829.51' '$733.58' '$407.54' '$770.89' '312.7350159' '270.2999878'\n",
      " '667.4000244']\n",
      "\n",
      "product_first_sold_date have 100 unique values: float64\n",
      "product_first_sold_date values: [41245. 41701. 36361. 36145. 42226. 39031. 34165. 39915. 33455. 38216.\n",
      " 40784. 42172. 34527. 34586. 38193. 37873. 38206. 33888. 37337. 36334.\n",
      " 42145. 42404. 34079. 41047. 42560. 42710. 41922. 37539. 42688. 38991.\n",
      " 38647. 37874. 34996. 33549. 38693. 37668. 41533. 41009. 40553. 39427.\n",
      " 38482. 35470. 41434. 36367. 38750. 41848. 34244. 42696. 38258. 41167.\n",
      " 40672. 35707. 42295. 33552. 35667. 33879. 40670. 37626. 38339. 40303.\n",
      " 34143. 35160. 36668. 36498. 34071. 40649. 37823. 36146. 42105. 34115.\n",
      " 35052. 33364. 42218. 41345. 33429. 38859.    nan 36833. 37499. 41064.\n",
      " 33259. 35560. 37838. 37698. 35378. 38573. 38002. 39526. 39880. 40487.\n",
      " 40336. 40618. 34170. 40410. 42458. 39298. 35455. 37220. 37659. 40779.\n",
      " 34556.]\n",
      "\n",
      "Unnamed: 13 have 0 unique values: float64\n",
      "Unnamed: 13 values: [nan]\n",
      "\n",
      "Unnamed: 14 have 0 unique values: float64\n",
      "Unnamed: 14 values: [nan]\n",
      "\n",
      "Unnamed: 15 have 0 unique values: float64\n",
      "Unnamed: 15 values: [nan]\n",
      "\n",
      "Unnamed: 16 have 0 unique values: float64\n",
      "Unnamed: 16 values: [nan]\n",
      "\n",
      "Unnamed: 17 have 0 unique values: float64\n",
      "Unnamed: 17 values: [nan]\n",
      "\n",
      "Unnamed: 18 have 0 unique values: float64\n",
      "Unnamed: 18 values: [nan]\n",
      "\n",
      "Unnamed: 19 have 0 unique values: float64\n",
      "Unnamed: 19 values: [nan]\n",
      "\n",
      "Unnamed: 20 have 0 unique values: float64\n",
      "Unnamed: 20 values: [nan]\n",
      "\n",
      "Unnamed: 21 have 0 unique values: float64\n",
      "Unnamed: 21 values: [nan]\n",
      "\n",
      "Unnamed: 22 have 0 unique values: float64\n",
      "Unnamed: 22 values: [nan]\n",
      "\n",
      "Unnamed: 23 have 0 unique values: float64\n",
      "Unnamed: 23 values: [nan]\n",
      "\n",
      "Unnamed: 24 have 0 unique values: float64\n",
      "Unnamed: 24 values: [nan]\n",
      "\n",
      "Unnamed: 25 have 0 unique values: float64\n",
      "Unnamed: 25 values: [nan]\n",
      "\n"
     ]
    }
   ],
   "source": [
    "# Checking unique value from each columns\n",
    "for col in df_tran.columns:\n",
    "    print(\"{} have {} unique values: {}\".format(col, df_tran[col].nunique(), df_tran[col].dtypes))\n",
    "    if df_tran[col].dtypes == 'int64' or df_tran[col].dtypes == 'float' or df_tran[col].dtypes == 'object':\n",
    "        print(\"{} values: {}\".format(col,df_tran[col].unique()))\n",
    "        print('')"
   ]
  },
  {
   "cell_type": "code",
   "execution_count": 64,
   "id": "e1e59572-f2b8-4586-857e-dbb2cb723fb6",
   "metadata": {},
   "outputs": [
    {
     "name": "stdout",
     "output_type": "stream",
     "text": [
      "['transaction_id', 'product_id', 'customer_id', 'list_price', 'product_first_sold_date', 'Unnamed: 13', 'Unnamed: 14', 'Unnamed: 15', 'Unnamed: 16', 'Unnamed: 17', 'Unnamed: 18', 'Unnamed: 19', 'Unnamed: 20', 'Unnamed: 21', 'Unnamed: 22', 'Unnamed: 23', 'Unnamed: 24', 'Unnamed: 25']\n",
      "Counts : 18\n"
     ]
    }
   ],
   "source": [
    "# numerical data\n",
    "nums_t = df_tran.loc[:, (df_tran.dtypes == 'int64') | (df_tran.dtypes == float)].columns.tolist()\n",
    "print(nums_t)\n",
    "print('Counts :', len(nums_t))"
   ]
  },
  {
   "cell_type": "code",
   "execution_count": 65,
   "id": "da73d69a-c6ec-4c9c-9760-5035b9890239",
   "metadata": {},
   "outputs": [
    {
     "name": "stdout",
     "output_type": "stream",
     "text": [
      "['transaction_date', 'online_order', 'order_status', 'brand', 'product_line', 'product_class', 'product_size', 'standard_cost']\n",
      "Counts : 8\n"
     ]
    }
   ],
   "source": [
    "# categorical data\n",
    "cats_t = df_tran.loc[:, (df_tran.dtypes == object)].columns.tolist() \n",
    "print(cats_t)\n",
    "print('Counts :', len(cats_t))"
   ]
  },
  {
   "cell_type": "markdown",
   "id": "f879b5a2-378c-4583-9a85-f37ecfc076ab",
   "metadata": {},
   "source": [
    "🔎 **Observation :**\n",
    "- The dataset consists of **20001 records** and **26 columns**, **18 numerical** data, and **8 categorical** data.\n",
    "- **transaction_id, product_id, customer_id, product_first_sold_date** is recommended to be **integer**.\n",
    "- **transaction_date** is recommended to be a **datetime**.\n",
    "- **standard_cost** is recommended to be **float** and there are inconsistencies in values and unwanted characters, so treatment is needed.\n",
    "- There are columns that are not relevant, so they need to be dropped."
   ]
  },
  {
   "cell_type": "markdown",
   "id": "6425f72a-8cf4-45ac-be07-ede34cf366c2",
   "metadata": {},
   "source": [
    "#### 1.2 Checking Missing Values"
   ]
  },
  {
   "cell_type": "code",
   "execution_count": 66,
   "id": "e2c079ca-f91d-4fa4-ad7b-cba99b16e89c",
   "metadata": {},
   "outputs": [
    {
     "data": {
      "text/html": [
       "<div>\n",
       "<style scoped>\n",
       "    .dataframe tbody tr th:only-of-type {\n",
       "        vertical-align: middle;\n",
       "    }\n",
       "\n",
       "    .dataframe tbody tr th {\n",
       "        vertical-align: top;\n",
       "    }\n",
       "\n",
       "    .dataframe thead th {\n",
       "        text-align: right;\n",
       "    }\n",
       "</style>\n",
       "<table border=\"1\" class=\"dataframe\">\n",
       "  <thead>\n",
       "    <tr style=\"text-align: right;\">\n",
       "      <th></th>\n",
       "      <th>missing value counts</th>\n",
       "      <th>%</th>\n",
       "    </tr>\n",
       "  </thead>\n",
       "  <tbody>\n",
       "    <tr>\n",
       "      <th>Unnamed: 13</th>\n",
       "      <td>20001</td>\n",
       "      <td>100.00</td>\n",
       "    </tr>\n",
       "    <tr>\n",
       "      <th>Unnamed: 14</th>\n",
       "      <td>20001</td>\n",
       "      <td>100.00</td>\n",
       "    </tr>\n",
       "    <tr>\n",
       "      <th>Unnamed: 24</th>\n",
       "      <td>20001</td>\n",
       "      <td>100.00</td>\n",
       "    </tr>\n",
       "    <tr>\n",
       "      <th>Unnamed: 23</th>\n",
       "      <td>20001</td>\n",
       "      <td>100.00</td>\n",
       "    </tr>\n",
       "    <tr>\n",
       "      <th>Unnamed: 22</th>\n",
       "      <td>20001</td>\n",
       "      <td>100.00</td>\n",
       "    </tr>\n",
       "    <tr>\n",
       "      <th>Unnamed: 21</th>\n",
       "      <td>20001</td>\n",
       "      <td>100.00</td>\n",
       "    </tr>\n",
       "    <tr>\n",
       "      <th>Unnamed: 20</th>\n",
       "      <td>20001</td>\n",
       "      <td>100.00</td>\n",
       "    </tr>\n",
       "    <tr>\n",
       "      <th>Unnamed: 19</th>\n",
       "      <td>20001</td>\n",
       "      <td>100.00</td>\n",
       "    </tr>\n",
       "    <tr>\n",
       "      <th>Unnamed: 18</th>\n",
       "      <td>20001</td>\n",
       "      <td>100.00</td>\n",
       "    </tr>\n",
       "    <tr>\n",
       "      <th>Unnamed: 17</th>\n",
       "      <td>20001</td>\n",
       "      <td>100.00</td>\n",
       "    </tr>\n",
       "    <tr>\n",
       "      <th>Unnamed: 16</th>\n",
       "      <td>20001</td>\n",
       "      <td>100.00</td>\n",
       "    </tr>\n",
       "    <tr>\n",
       "      <th>Unnamed: 15</th>\n",
       "      <td>20001</td>\n",
       "      <td>100.00</td>\n",
       "    </tr>\n",
       "    <tr>\n",
       "      <th>Unnamed: 25</th>\n",
       "      <td>20001</td>\n",
       "      <td>100.00</td>\n",
       "    </tr>\n",
       "    <tr>\n",
       "      <th>online_order</th>\n",
       "      <td>361</td>\n",
       "      <td>1.80</td>\n",
       "    </tr>\n",
       "    <tr>\n",
       "      <th>product_first_sold_date</th>\n",
       "      <td>198</td>\n",
       "      <td>0.99</td>\n",
       "    </tr>\n",
       "    <tr>\n",
       "      <th>standard_cost</th>\n",
       "      <td>198</td>\n",
       "      <td>0.99</td>\n",
       "    </tr>\n",
       "    <tr>\n",
       "      <th>product_size</th>\n",
       "      <td>198</td>\n",
       "      <td>0.99</td>\n",
       "    </tr>\n",
       "    <tr>\n",
       "      <th>product_class</th>\n",
       "      <td>198</td>\n",
       "      <td>0.99</td>\n",
       "    </tr>\n",
       "    <tr>\n",
       "      <th>product_line</th>\n",
       "      <td>198</td>\n",
       "      <td>0.99</td>\n",
       "    </tr>\n",
       "    <tr>\n",
       "      <th>brand</th>\n",
       "      <td>198</td>\n",
       "      <td>0.99</td>\n",
       "    </tr>\n",
       "    <tr>\n",
       "      <th>product_id</th>\n",
       "      <td>1</td>\n",
       "      <td>0.00</td>\n",
       "    </tr>\n",
       "    <tr>\n",
       "      <th>list_price</th>\n",
       "      <td>1</td>\n",
       "      <td>0.00</td>\n",
       "    </tr>\n",
       "    <tr>\n",
       "      <th>order_status</th>\n",
       "      <td>1</td>\n",
       "      <td>0.00</td>\n",
       "    </tr>\n",
       "    <tr>\n",
       "      <th>transaction_date</th>\n",
       "      <td>1</td>\n",
       "      <td>0.00</td>\n",
       "    </tr>\n",
       "    <tr>\n",
       "      <th>customer_id</th>\n",
       "      <td>1</td>\n",
       "      <td>0.00</td>\n",
       "    </tr>\n",
       "    <tr>\n",
       "      <th>transaction_id</th>\n",
       "      <td>1</td>\n",
       "      <td>0.00</td>\n",
       "    </tr>\n",
       "  </tbody>\n",
       "</table>\n",
       "</div>"
      ],
      "text/plain": [
       "                         missing value counts       %\n",
       "Unnamed: 13                             20001  100.00\n",
       "Unnamed: 14                             20001  100.00\n",
       "Unnamed: 24                             20001  100.00\n",
       "Unnamed: 23                             20001  100.00\n",
       "Unnamed: 22                             20001  100.00\n",
       "Unnamed: 21                             20001  100.00\n",
       "Unnamed: 20                             20001  100.00\n",
       "Unnamed: 19                             20001  100.00\n",
       "Unnamed: 18                             20001  100.00\n",
       "Unnamed: 17                             20001  100.00\n",
       "Unnamed: 16                             20001  100.00\n",
       "Unnamed: 15                             20001  100.00\n",
       "Unnamed: 25                             20001  100.00\n",
       "online_order                              361    1.80\n",
       "product_first_sold_date                   198    0.99\n",
       "standard_cost                             198    0.99\n",
       "product_size                              198    0.99\n",
       "product_class                             198    0.99\n",
       "product_line                              198    0.99\n",
       "brand                                     198    0.99\n",
       "product_id                                  1    0.00\n",
       "list_price                                  1    0.00\n",
       "order_status                                1    0.00\n",
       "transaction_date                            1    0.00\n",
       "customer_id                                 1    0.00\n",
       "transaction_id                              1    0.00"
      ]
     },
     "execution_count": 66,
     "metadata": {},
     "output_type": "execute_result"
    }
   ],
   "source": [
    "# checking missing value of each columns\n",
    "counts = df_tran.isna().sum().sort_values(ascending=False)\n",
    "\n",
    "# percentages of missing value\n",
    "percent = round(df_tran.isna().mean()*100, 2).sort_values(ascending=False)\n",
    "\n",
    "# create dataframe of missing value\n",
    "df_demo_nan = pd.concat([counts,percent], axis=1, keys=['missing value counts', '%'])\n",
    "df_demo_nan"
   ]
  },
  {
   "cell_type": "code",
   "execution_count": 67,
   "id": "4d29a299-922f-4d0f-a357-2d4640bea7e6",
   "metadata": {},
   "outputs": [
    {
     "name": "stdout",
     "output_type": "stream",
     "text": [
      "Percentages missing value of dataset : 2.78 %\n"
     ]
    }
   ],
   "source": [
    "# percentages missing value of dataset\n",
    "\n",
    "ex = ['Unnamed: 13', 'Unnamed: 14', 'Unnamed: 15', 'Unnamed: 16', 'Unnamed: 17', 'Unnamed: 18', \n",
    "      'Unnamed: 19', 'Unnamed: 20', 'Unnamed: 21', 'Unnamed: 22', 'Unnamed: 23', 'Unnamed: 24', 'Unnamed: 25']\n",
    "df_tran_s = df_tran.loc[:, ~df_tran.columns.isin(ex)]\n",
    "\n",
    "nan_df = df_tran_s[df_tran_s.isna().any(axis=1)]\n",
    "nan_percent = round(len(nan_df)/len(df_tran_s)*100, 2)\n",
    "print('Percentages missing value of dataset :', nan_percent, '%')"
   ]
  },
  {
   "cell_type": "markdown",
   "id": "88988b2a-269a-47f1-bfb6-0bad04058523",
   "metadata": {},
   "source": [
    "🔎 **Observation :**\n",
    "There are a missing values of **less than 10%**. So I decided to drop it, as it is still safe and does not affect the analysis significantly."
   ]
  },
  {
   "cell_type": "markdown",
   "id": "5ef8888c-686b-482a-805f-76230439e213",
   "metadata": {},
   "source": [
    "#### 1.3 Checking Duplikat Records"
   ]
  },
  {
   "cell_type": "code",
   "execution_count": 68,
   "id": "97ad2d14-a641-4acb-855a-6eb22babe2b4",
   "metadata": {},
   "outputs": [
    {
     "data": {
      "text/plain": [
       "False"
      ]
     },
     "execution_count": 68,
     "metadata": {},
     "output_type": "execute_result"
    }
   ],
   "source": [
    "# checking duplicated data\n",
    "df_tran.duplicated().any()"
   ]
  },
  {
   "cell_type": "markdown",
   "id": "85cc113f-5350-4956-995a-11ffd519ddfc",
   "metadata": {},
   "source": [
    "🔎 **Observation :**\n",
    "There are **no duplicate** records."
   ]
  },
  {
   "cell_type": "markdown",
   "id": "c192271c-971c-4ca7-86fc-5f13f6800ea0",
   "metadata": {},
   "source": [
    "#### 1.4 Statistical Summary"
   ]
  },
  {
   "cell_type": "code",
   "execution_count": 69,
   "id": "ef49e52e-94bf-4def-8e1f-96634504e3b3",
   "metadata": {},
   "outputs": [
    {
     "data": {
      "text/html": [
       "<div>\n",
       "<style scoped>\n",
       "    .dataframe tbody tr th:only-of-type {\n",
       "        vertical-align: middle;\n",
       "    }\n",
       "\n",
       "    .dataframe tbody tr th {\n",
       "        vertical-align: top;\n",
       "    }\n",
       "\n",
       "    .dataframe thead th {\n",
       "        text-align: right;\n",
       "    }\n",
       "</style>\n",
       "<table border=\"1\" class=\"dataframe\">\n",
       "  <thead>\n",
       "    <tr style=\"text-align: right;\">\n",
       "      <th></th>\n",
       "      <th>count</th>\n",
       "      <th>mean</th>\n",
       "      <th>std</th>\n",
       "      <th>min</th>\n",
       "      <th>25%</th>\n",
       "      <th>50%</th>\n",
       "      <th>75%</th>\n",
       "      <th>max</th>\n",
       "    </tr>\n",
       "  </thead>\n",
       "  <tbody>\n",
       "    <tr>\n",
       "      <th>transaction_id</th>\n",
       "      <td>20000.0</td>\n",
       "      <td>10000.500000</td>\n",
       "      <td>5773.647028</td>\n",
       "      <td>1.00</td>\n",
       "      <td>5000.75</td>\n",
       "      <td>10000.50</td>\n",
       "      <td>15000.25</td>\n",
       "      <td>20000.00</td>\n",
       "    </tr>\n",
       "    <tr>\n",
       "      <th>product_id</th>\n",
       "      <td>20000.0</td>\n",
       "      <td>45.364650</td>\n",
       "      <td>30.753590</td>\n",
       "      <td>0.00</td>\n",
       "      <td>18.00</td>\n",
       "      <td>44.00</td>\n",
       "      <td>72.00</td>\n",
       "      <td>100.00</td>\n",
       "    </tr>\n",
       "    <tr>\n",
       "      <th>customer_id</th>\n",
       "      <td>20000.0</td>\n",
       "      <td>1738.246050</td>\n",
       "      <td>1011.951046</td>\n",
       "      <td>1.00</td>\n",
       "      <td>857.75</td>\n",
       "      <td>1736.00</td>\n",
       "      <td>2613.00</td>\n",
       "      <td>5034.00</td>\n",
       "    </tr>\n",
       "    <tr>\n",
       "      <th>list_price</th>\n",
       "      <td>20000.0</td>\n",
       "      <td>1107.829449</td>\n",
       "      <td>582.825242</td>\n",
       "      <td>12.01</td>\n",
       "      <td>575.27</td>\n",
       "      <td>1163.89</td>\n",
       "      <td>1635.30</td>\n",
       "      <td>2091.47</td>\n",
       "    </tr>\n",
       "    <tr>\n",
       "      <th>product_first_sold_date</th>\n",
       "      <td>19803.0</td>\n",
       "      <td>38199.776549</td>\n",
       "      <td>2875.201110</td>\n",
       "      <td>33259.00</td>\n",
       "      <td>35667.00</td>\n",
       "      <td>38216.00</td>\n",
       "      <td>40672.00</td>\n",
       "      <td>42710.00</td>\n",
       "    </tr>\n",
       "    <tr>\n",
       "      <th>Unnamed: 13</th>\n",
       "      <td>0.0</td>\n",
       "      <td>NaN</td>\n",
       "      <td>NaN</td>\n",
       "      <td>NaN</td>\n",
       "      <td>NaN</td>\n",
       "      <td>NaN</td>\n",
       "      <td>NaN</td>\n",
       "      <td>NaN</td>\n",
       "    </tr>\n",
       "    <tr>\n",
       "      <th>Unnamed: 14</th>\n",
       "      <td>0.0</td>\n",
       "      <td>NaN</td>\n",
       "      <td>NaN</td>\n",
       "      <td>NaN</td>\n",
       "      <td>NaN</td>\n",
       "      <td>NaN</td>\n",
       "      <td>NaN</td>\n",
       "      <td>NaN</td>\n",
       "    </tr>\n",
       "    <tr>\n",
       "      <th>Unnamed: 15</th>\n",
       "      <td>0.0</td>\n",
       "      <td>NaN</td>\n",
       "      <td>NaN</td>\n",
       "      <td>NaN</td>\n",
       "      <td>NaN</td>\n",
       "      <td>NaN</td>\n",
       "      <td>NaN</td>\n",
       "      <td>NaN</td>\n",
       "    </tr>\n",
       "    <tr>\n",
       "      <th>Unnamed: 16</th>\n",
       "      <td>0.0</td>\n",
       "      <td>NaN</td>\n",
       "      <td>NaN</td>\n",
       "      <td>NaN</td>\n",
       "      <td>NaN</td>\n",
       "      <td>NaN</td>\n",
       "      <td>NaN</td>\n",
       "      <td>NaN</td>\n",
       "    </tr>\n",
       "    <tr>\n",
       "      <th>Unnamed: 17</th>\n",
       "      <td>0.0</td>\n",
       "      <td>NaN</td>\n",
       "      <td>NaN</td>\n",
       "      <td>NaN</td>\n",
       "      <td>NaN</td>\n",
       "      <td>NaN</td>\n",
       "      <td>NaN</td>\n",
       "      <td>NaN</td>\n",
       "    </tr>\n",
       "    <tr>\n",
       "      <th>Unnamed: 18</th>\n",
       "      <td>0.0</td>\n",
       "      <td>NaN</td>\n",
       "      <td>NaN</td>\n",
       "      <td>NaN</td>\n",
       "      <td>NaN</td>\n",
       "      <td>NaN</td>\n",
       "      <td>NaN</td>\n",
       "      <td>NaN</td>\n",
       "    </tr>\n",
       "    <tr>\n",
       "      <th>Unnamed: 19</th>\n",
       "      <td>0.0</td>\n",
       "      <td>NaN</td>\n",
       "      <td>NaN</td>\n",
       "      <td>NaN</td>\n",
       "      <td>NaN</td>\n",
       "      <td>NaN</td>\n",
       "      <td>NaN</td>\n",
       "      <td>NaN</td>\n",
       "    </tr>\n",
       "    <tr>\n",
       "      <th>Unnamed: 20</th>\n",
       "      <td>0.0</td>\n",
       "      <td>NaN</td>\n",
       "      <td>NaN</td>\n",
       "      <td>NaN</td>\n",
       "      <td>NaN</td>\n",
       "      <td>NaN</td>\n",
       "      <td>NaN</td>\n",
       "      <td>NaN</td>\n",
       "    </tr>\n",
       "    <tr>\n",
       "      <th>Unnamed: 21</th>\n",
       "      <td>0.0</td>\n",
       "      <td>NaN</td>\n",
       "      <td>NaN</td>\n",
       "      <td>NaN</td>\n",
       "      <td>NaN</td>\n",
       "      <td>NaN</td>\n",
       "      <td>NaN</td>\n",
       "      <td>NaN</td>\n",
       "    </tr>\n",
       "    <tr>\n",
       "      <th>Unnamed: 22</th>\n",
       "      <td>0.0</td>\n",
       "      <td>NaN</td>\n",
       "      <td>NaN</td>\n",
       "      <td>NaN</td>\n",
       "      <td>NaN</td>\n",
       "      <td>NaN</td>\n",
       "      <td>NaN</td>\n",
       "      <td>NaN</td>\n",
       "    </tr>\n",
       "    <tr>\n",
       "      <th>Unnamed: 23</th>\n",
       "      <td>0.0</td>\n",
       "      <td>NaN</td>\n",
       "      <td>NaN</td>\n",
       "      <td>NaN</td>\n",
       "      <td>NaN</td>\n",
       "      <td>NaN</td>\n",
       "      <td>NaN</td>\n",
       "      <td>NaN</td>\n",
       "    </tr>\n",
       "    <tr>\n",
       "      <th>Unnamed: 24</th>\n",
       "      <td>0.0</td>\n",
       "      <td>NaN</td>\n",
       "      <td>NaN</td>\n",
       "      <td>NaN</td>\n",
       "      <td>NaN</td>\n",
       "      <td>NaN</td>\n",
       "      <td>NaN</td>\n",
       "      <td>NaN</td>\n",
       "    </tr>\n",
       "    <tr>\n",
       "      <th>Unnamed: 25</th>\n",
       "      <td>0.0</td>\n",
       "      <td>NaN</td>\n",
       "      <td>NaN</td>\n",
       "      <td>NaN</td>\n",
       "      <td>NaN</td>\n",
       "      <td>NaN</td>\n",
       "      <td>NaN</td>\n",
       "      <td>NaN</td>\n",
       "    </tr>\n",
       "  </tbody>\n",
       "</table>\n",
       "</div>"
      ],
      "text/plain": [
       "                           count          mean          std       min  \\\n",
       "transaction_id           20000.0  10000.500000  5773.647028      1.00   \n",
       "product_id               20000.0     45.364650    30.753590      0.00   \n",
       "customer_id              20000.0   1738.246050  1011.951046      1.00   \n",
       "list_price               20000.0   1107.829449   582.825242     12.01   \n",
       "product_first_sold_date  19803.0  38199.776549  2875.201110  33259.00   \n",
       "Unnamed: 13                  0.0           NaN          NaN       NaN   \n",
       "Unnamed: 14                  0.0           NaN          NaN       NaN   \n",
       "Unnamed: 15                  0.0           NaN          NaN       NaN   \n",
       "Unnamed: 16                  0.0           NaN          NaN       NaN   \n",
       "Unnamed: 17                  0.0           NaN          NaN       NaN   \n",
       "Unnamed: 18                  0.0           NaN          NaN       NaN   \n",
       "Unnamed: 19                  0.0           NaN          NaN       NaN   \n",
       "Unnamed: 20                  0.0           NaN          NaN       NaN   \n",
       "Unnamed: 21                  0.0           NaN          NaN       NaN   \n",
       "Unnamed: 22                  0.0           NaN          NaN       NaN   \n",
       "Unnamed: 23                  0.0           NaN          NaN       NaN   \n",
       "Unnamed: 24                  0.0           NaN          NaN       NaN   \n",
       "Unnamed: 25                  0.0           NaN          NaN       NaN   \n",
       "\n",
       "                              25%       50%       75%       max  \n",
       "transaction_id            5000.75  10000.50  15000.25  20000.00  \n",
       "product_id                  18.00     44.00     72.00    100.00  \n",
       "customer_id                857.75   1736.00   2613.00   5034.00  \n",
       "list_price                 575.27   1163.89   1635.30   2091.47  \n",
       "product_first_sold_date  35667.00  38216.00  40672.00  42710.00  \n",
       "Unnamed: 13                   NaN       NaN       NaN       NaN  \n",
       "Unnamed: 14                   NaN       NaN       NaN       NaN  \n",
       "Unnamed: 15                   NaN       NaN       NaN       NaN  \n",
       "Unnamed: 16                   NaN       NaN       NaN       NaN  \n",
       "Unnamed: 17                   NaN       NaN       NaN       NaN  \n",
       "Unnamed: 18                   NaN       NaN       NaN       NaN  \n",
       "Unnamed: 19                   NaN       NaN       NaN       NaN  \n",
       "Unnamed: 20                   NaN       NaN       NaN       NaN  \n",
       "Unnamed: 21                   NaN       NaN       NaN       NaN  \n",
       "Unnamed: 22                   NaN       NaN       NaN       NaN  \n",
       "Unnamed: 23                   NaN       NaN       NaN       NaN  \n",
       "Unnamed: 24                   NaN       NaN       NaN       NaN  \n",
       "Unnamed: 25                   NaN       NaN       NaN       NaN  "
      ]
     },
     "execution_count": 69,
     "metadata": {},
     "output_type": "execute_result"
    }
   ],
   "source": [
    "# numerical value\n",
    "df_tran[nums_t].describe().T"
   ]
  },
  {
   "cell_type": "code",
   "execution_count": 70,
   "id": "dceec95f-132c-4362-a555-4760216eef71",
   "metadata": {},
   "outputs": [
    {
     "data": {
      "text/html": [
       "<div>\n",
       "<style scoped>\n",
       "    .dataframe tbody tr th:only-of-type {\n",
       "        vertical-align: middle;\n",
       "    }\n",
       "\n",
       "    .dataframe tbody tr th {\n",
       "        vertical-align: top;\n",
       "    }\n",
       "\n",
       "    .dataframe thead th {\n",
       "        text-align: right;\n",
       "    }\n",
       "</style>\n",
       "<table border=\"1\" class=\"dataframe\">\n",
       "  <thead>\n",
       "    <tr style=\"text-align: right;\">\n",
       "      <th></th>\n",
       "      <th>count</th>\n",
       "      <th>unique</th>\n",
       "      <th>top</th>\n",
       "      <th>freq</th>\n",
       "    </tr>\n",
       "  </thead>\n",
       "  <tbody>\n",
       "    <tr>\n",
       "      <th>transaction_date</th>\n",
       "      <td>20000</td>\n",
       "      <td>364</td>\n",
       "      <td>2/14/2017</td>\n",
       "      <td>82</td>\n",
       "    </tr>\n",
       "    <tr>\n",
       "      <th>online_order</th>\n",
       "      <td>19640</td>\n",
       "      <td>2</td>\n",
       "      <td>True</td>\n",
       "      <td>9829</td>\n",
       "    </tr>\n",
       "    <tr>\n",
       "      <th>order_status</th>\n",
       "      <td>20000</td>\n",
       "      <td>2</td>\n",
       "      <td>Approved</td>\n",
       "      <td>19821</td>\n",
       "    </tr>\n",
       "    <tr>\n",
       "      <th>brand</th>\n",
       "      <td>19803</td>\n",
       "      <td>6</td>\n",
       "      <td>Solex</td>\n",
       "      <td>4253</td>\n",
       "    </tr>\n",
       "    <tr>\n",
       "      <th>product_line</th>\n",
       "      <td>19803</td>\n",
       "      <td>4</td>\n",
       "      <td>Standard</td>\n",
       "      <td>14176</td>\n",
       "    </tr>\n",
       "    <tr>\n",
       "      <th>product_class</th>\n",
       "      <td>19803</td>\n",
       "      <td>3</td>\n",
       "      <td>medium</td>\n",
       "      <td>13826</td>\n",
       "    </tr>\n",
       "    <tr>\n",
       "      <th>product_size</th>\n",
       "      <td>19803</td>\n",
       "      <td>3</td>\n",
       "      <td>medium</td>\n",
       "      <td>12990</td>\n",
       "    </tr>\n",
       "    <tr>\n",
       "      <th>standard_cost</th>\n",
       "      <td>19803</td>\n",
       "      <td>103</td>\n",
       "      <td>$388.92</td>\n",
       "      <td>465</td>\n",
       "    </tr>\n",
       "  </tbody>\n",
       "</table>\n",
       "</div>"
      ],
      "text/plain": [
       "                  count unique        top   freq\n",
       "transaction_date  20000    364  2/14/2017     82\n",
       "online_order      19640      2       True   9829\n",
       "order_status      20000      2   Approved  19821\n",
       "brand             19803      6      Solex   4253\n",
       "product_line      19803      4   Standard  14176\n",
       "product_class     19803      3     medium  13826\n",
       "product_size      19803      3     medium  12990\n",
       "standard_cost     19803    103    $388.92    465"
      ]
     },
     "execution_count": 70,
     "metadata": {},
     "output_type": "execute_result"
    }
   ],
   "source": [
    "# categorical value\n",
    "df_tran[cats_t].describe().T"
   ]
  },
  {
   "cell_type": "markdown",
   "id": "b63e3fe2-5e6f-48d7-a109-9362313b6222",
   "metadata": {},
   "source": [
    "#### 1.5 Checking Distribution"
   ]
  },
  {
   "cell_type": "code",
   "execution_count": 71,
   "id": "d36e0504-f6f6-4236-bb11-f8cb6232659f",
   "metadata": {},
   "outputs": [
    {
     "data": {
      "image/png": "[encoded data removed]",
      "text/plain": [
       "<Figure size 800x400 with 5 Axes>"
      ]
     },
     "metadata": {},
     "output_type": "display_data"
    }
   ],
   "source": [
    "# distribution numerical data\n",
    "nums_t = ['transaction_id', 'product_id', 'customer_id', 'list_price', 'product_first_sold_date']\n",
    "plt.figure(figsize=(8, 4))\n",
    "for i in range(0, len(nums_t)):\n",
    "    plt.subplot(2, 3, i+1)\n",
    "    sns.distplot(df_tran[nums_t[i]], color='yellowgreen')\n",
    "    plt.tight_layout()"
   ]
  },
  {
   "cell_type": "code",
   "execution_count": 72,
   "id": "32bd770f-3ddb-42b5-818f-99e126c02de4",
   "metadata": {},
   "outputs": [
    {
     "data": {
      "image/png": "[encoded data removed]",
      "text/plain": [
       "<Figure size 900x200 with 5 Axes>"
      ]
     },
     "metadata": {},
     "output_type": "display_data"
    }
   ],
   "source": [
    "# distribution numerical data and check outlier\n",
    "plt.figure(figsize=(9, 2))\n",
    "for i in range(0, len(nums_t)):\n",
    "    plt.subplot(1, len(nums_t), i+1)\n",
    "    sns.boxplot(y=df_tran[nums_t[i]], color='yellowgreen', orient='v')\n",
    "    plt.tight_layout()"
   ]
  },
  {
   "cell_type": "code",
   "execution_count": 73,
   "id": "bb5a4521-10aa-44b2-8324-135431d4392b",
   "metadata": {},
   "outputs": [
    {
     "data": {
      "image/png": "[encoded data removed]",
      "text/plain": [
       "<Figure size 1400x1400 with 8 Axes>"
      ]
     },
     "metadata": {},
     "output_type": "display_data"
    }
   ],
   "source": [
    "plt.figure(figsize=(14, 14))\n",
    "for i in range(0, len(cats_t)):\n",
    "    plt.subplot(4, 2, i+1)\n",
    "    sns.countplot(x=df_tran[cats_t[i]], color='yellowgreen', orient='v')\n",
    "    plt.tight_layout()"
   ]
  },
  {
   "cell_type": "markdown",
   "id": "b7d9a6fb-709e-4a7a-88cf-6741e5f5f6dd",
   "metadata": {},
   "source": [
    "### **2. Data Cleaning**"
   ]
  },
  {
   "cell_type": "markdown",
   "id": "cd951246-32a4-4496-b04a-36881aee3bce",
   "metadata": {},
   "source": [
    "#### 2.1 Dropping Irrelevan Columns"
   ]
  },
  {
   "cell_type": "code",
   "execution_count": 74,
   "id": "aa918e56-798a-42cd-b1fb-05abb0fe0a69",
   "metadata": {},
   "outputs": [],
   "source": [
    "df_tran1 = df_tran.copy()"
   ]
  },
  {
   "cell_type": "code",
   "execution_count": 75,
   "id": "c8b0fa82-4d2a-4a40-8494-aa01191e5944",
   "metadata": {},
   "outputs": [],
   "source": [
    "# dropping columns\n",
    "df_tran1.drop(columns=['Unnamed: 13', 'Unnamed: 14', 'Unnamed: 15', 'Unnamed: 16', 'Unnamed: 17', 'Unnamed: 18', \n",
    "                       'Unnamed: 19', 'Unnamed: 20', 'Unnamed: 21', 'Unnamed: 22', 'Unnamed: 23', 'Unnamed: 24', \n",
    "                       'Unnamed: 25'], inplace=True)"
   ]
  },
  {
   "cell_type": "code",
   "execution_count": 76,
   "id": "80f1b616-a351-4079-aaf7-65deadbcc45d",
   "metadata": {},
   "outputs": [
    {
     "data": {
      "text/plain": [
       "Index(['transaction_id', 'product_id', 'customer_id', 'transaction_date',\n",
       "       'online_order', 'order_status', 'brand', 'product_line',\n",
       "       'product_class', 'product_size', 'list_price', 'standard_cost',\n",
       "       'product_first_sold_date'],\n",
       "      dtype='object')"
      ]
     },
     "execution_count": 76,
     "metadata": {},
     "output_type": "execute_result"
    }
   ],
   "source": [
    "# checking\n",
    "df_tran1.columns"
   ]
  },
  {
   "cell_type": "markdown",
   "id": "f5627141-9a98-47b9-a0e3-111183c7e7c6",
   "metadata": {},
   "source": [
    "The dataset has been cleared of irrelevant columns ✅"
   ]
  },
  {
   "cell_type": "markdown",
   "id": "5e167fcd-0b4f-4996-a4dd-6cc333deb1fd",
   "metadata": {
    "tags": []
   },
   "source": [
    "#### 2.2 Handling Missing Values"
   ]
  },
  {
   "cell_type": "code",
   "execution_count": 77,
   "id": "52bdcd25-40aa-4619-8c44-f6714c2edaa2",
   "metadata": {},
   "outputs": [
    {
     "data": {
      "text/plain": [
       "transaction_id               1\n",
       "product_id                   1\n",
       "customer_id                  1\n",
       "transaction_date             1\n",
       "online_order               361\n",
       "order_status                 1\n",
       "brand                      198\n",
       "product_line               198\n",
       "product_class              198\n",
       "product_size               198\n",
       "list_price                   1\n",
       "standard_cost              198\n",
       "product_first_sold_date    198\n",
       "dtype: int64"
      ]
     },
     "execution_count": 77,
     "metadata": {},
     "output_type": "execute_result"
    }
   ],
   "source": [
    "df_tran1.isna().sum()"
   ]
  },
  {
   "cell_type": "code",
   "execution_count": 78,
   "id": "e81392e8-3e65-4dc8-bdf7-e20b4fe1b8af",
   "metadata": {},
   "outputs": [],
   "source": [
    "# drop missing value\n",
    "df_tran1.dropna(inplace=True)"
   ]
  },
  {
   "cell_type": "code",
   "execution_count": 79,
   "id": "ac19c735-03bd-4ed6-a8fa-8b206626a6e6",
   "metadata": {},
   "outputs": [
    {
     "data": {
      "text/plain": [
       "transaction_id             0\n",
       "product_id                 0\n",
       "customer_id                0\n",
       "transaction_date           0\n",
       "online_order               0\n",
       "order_status               0\n",
       "brand                      0\n",
       "product_line               0\n",
       "product_class              0\n",
       "product_size               0\n",
       "list_price                 0\n",
       "standard_cost              0\n",
       "product_first_sold_date    0\n",
       "dtype: int64"
      ]
     },
     "execution_count": 79,
     "metadata": {},
     "output_type": "execute_result"
    }
   ],
   "source": [
    "# checking\n",
    "df_tran1.isna().sum()"
   ]
  },
  {
   "cell_type": "markdown",
   "id": "68c80342-478a-4ca5-817c-ffc163d84c8b",
   "metadata": {},
   "source": [
    "The dataset has been cleared of missing values ✅"
   ]
  },
  {
   "cell_type": "markdown",
   "id": "e9094e42-ff98-4cab-87ca-238e4459d622",
   "metadata": {},
   "source": [
    "#### 2.3 Handling Data Type & Incorrect Values"
   ]
  },
  {
   "cell_type": "markdown",
   "id": "ce54839a-5752-416f-b67a-314a7d226d5a",
   "metadata": {},
   "source": [
    "🔽 **`transaction_id`, `product_id`, `customer_id`, `product_first_sold_date`**\n",
    "> from float to integer"
   ]
  },
  {
   "cell_type": "code",
   "execution_count": 80,
   "id": "86622744-f7ad-4030-a1c9-9147e6e1f39e",
   "metadata": {},
   "outputs": [],
   "source": [
    "# changing to integer\n",
    "col_int = ['transaction_id', 'product_id', 'customer_id', 'product_first_sold_date']\n",
    "df_tran1[col_int] = df_tran1[col_int].astype('int64')"
   ]
  },
  {
   "cell_type": "markdown",
   "id": "a9e1f1c4-8e23-4079-b337-159d11ee763c",
   "metadata": {},
   "source": [
    "🔽 **`standard_cost`**\n",
    "> removing character : '$' and ',' <br>\n",
    "> changing datatype to float"
   ]
  },
  {
   "cell_type": "code",
   "execution_count": 81,
   "id": "196104ba-e99f-4cfc-873e-b22e4c0139c9",
   "metadata": {},
   "outputs": [],
   "source": [
    "# removing unwanted character in columns\n",
    "df_tran1['standard_cost'] = df_tran1['standard_cost'].str.replace('$','')\n",
    "df_tran1['standard_cost'] = df_tran1['standard_cost'].str.replace(',','')"
   ]
  },
  {
   "cell_type": "code",
   "execution_count": 82,
   "id": "966566f2-81c1-40d8-97f5-7a3d4782f864",
   "metadata": {},
   "outputs": [],
   "source": [
    "# changing to float\n",
    "df_tran1['standard_cost'] = df_tran1['standard_cost'].astype('float64')"
   ]
  },
  {
   "cell_type": "markdown",
   "id": "ce40a65a-dcb9-4d47-a0ec-1c84329ee511",
   "metadata": {},
   "source": [
    "🔽 **`transaction_date`**"
   ]
  },
  {
   "cell_type": "code",
   "execution_count": 83,
   "id": "4da28a15-4806-40d4-a9b0-e4292f0e71e5",
   "metadata": {},
   "outputs": [],
   "source": [
    "# changing datatype transaction date\n",
    "import datetime as dt\n",
    "\n",
    "df_tran1['transaction_date'] = df_tran1['transaction_date'].astype('datetime64[ns]')\n",
    "df_tran1['transaction_date'] = df_tran1['transaction_date'].dt.strftime('%Y-%m-%d').astype('datetime64[ns]')"
   ]
  },
  {
   "cell_type": "markdown",
   "id": "9a4bae18-13e0-45fb-88df-ee83a387fd7c",
   "metadata": {},
   "source": [
    "🔽 **`product_first_sold_date`**"
   ]
  },
  {
   "cell_type": "code",
   "execution_count": 84,
   "id": "0071cf82-3205-4823-bf89-455dc873dcdf",
   "metadata": {},
   "outputs": [],
   "source": [
    "# unix time values to datetime\n",
    "df_tran1['product_first_sold_date'] = pd.TimedeltaIndex(df_tran1['product_first_sold_date'], unit='d') + dt.datetime(1900,1,1)"
   ]
  },
  {
   "cell_type": "code",
   "execution_count": 85,
   "id": "87467a9e-4243-4768-8e29-0fe558ddc13b",
   "metadata": {},
   "outputs": [
    {
     "data": {
      "text/html": [
       "<div>\n",
       "<style scoped>\n",
       "    .dataframe tbody tr th:only-of-type {\n",
       "        vertical-align: middle;\n",
       "    }\n",
       "\n",
       "    .dataframe tbody tr th {\n",
       "        vertical-align: top;\n",
       "    }\n",
       "\n",
       "    .dataframe thead th {\n",
       "        text-align: right;\n",
       "    }\n",
       "</style>\n",
       "<table border=\"1\" class=\"dataframe\">\n",
       "  <thead>\n",
       "    <tr style=\"text-align: right;\">\n",
       "      <th></th>\n",
       "      <th>transaction_id</th>\n",
       "      <th>product_id</th>\n",
       "      <th>customer_id</th>\n",
       "      <th>transaction_date</th>\n",
       "      <th>online_order</th>\n",
       "      <th>order_status</th>\n",
       "      <th>brand</th>\n",
       "      <th>product_line</th>\n",
       "      <th>product_class</th>\n",
       "      <th>product_size</th>\n",
       "      <th>list_price</th>\n",
       "      <th>standard_cost</th>\n",
       "      <th>product_first_sold_date</th>\n",
       "    </tr>\n",
       "  </thead>\n",
       "  <tbody>\n",
       "    <tr>\n",
       "      <th>565</th>\n",
       "      <td>566</td>\n",
       "      <td>90</td>\n",
       "      <td>178</td>\n",
       "      <td>2017-11-28</td>\n",
       "      <td>False</td>\n",
       "      <td>Approved</td>\n",
       "      <td>Norco Bicycles</td>\n",
       "      <td>Standard</td>\n",
       "      <td>low</td>\n",
       "      <td>medium</td>\n",
       "      <td>363.01</td>\n",
       "      <td>290.41</td>\n",
       "      <td>2005-05-12</td>\n",
       "    </tr>\n",
       "    <tr>\n",
       "      <th>17514</th>\n",
       "      <td>17515</td>\n",
       "      <td>92</td>\n",
       "      <td>110</td>\n",
       "      <td>2017-05-22</td>\n",
       "      <td>True</td>\n",
       "      <td>Approved</td>\n",
       "      <td>WeareA2B</td>\n",
       "      <td>Standard</td>\n",
       "      <td>medium</td>\n",
       "      <td>small</td>\n",
       "      <td>1415.01</td>\n",
       "      <td>1259.36</td>\n",
       "      <td>2003-01-07</td>\n",
       "    </tr>\n",
       "    <tr>\n",
       "      <th>8517</th>\n",
       "      <td>8518</td>\n",
       "      <td>38</td>\n",
       "      <td>603</td>\n",
       "      <td>2017-02-12</td>\n",
       "      <td>False</td>\n",
       "      <td>Approved</td>\n",
       "      <td>Solex</td>\n",
       "      <td>Standard</td>\n",
       "      <td>medium</td>\n",
       "      <td>medium</td>\n",
       "      <td>1577.53</td>\n",
       "      <td>826.51</td>\n",
       "      <td>2011-03-18</td>\n",
       "    </tr>\n",
       "  </tbody>\n",
       "</table>\n",
       "</div>"
      ],
      "text/plain": [
       "       transaction_id  product_id  customer_id transaction_date online_order  \\\n",
       "565               566          90          178       2017-11-28        False   \n",
       "17514           17515          92          110       2017-05-22         True   \n",
       "8517             8518          38          603       2017-02-12        False   \n",
       "\n",
       "      order_status           brand product_line product_class product_size  \\\n",
       "565       Approved  Norco Bicycles     Standard           low       medium   \n",
       "17514     Approved        WeareA2B     Standard        medium        small   \n",
       "8517      Approved           Solex     Standard        medium       medium   \n",
       "\n",
       "       list_price  standard_cost product_first_sold_date  \n",
       "565        363.01         290.41              2005-05-12  \n",
       "17514     1415.01        1259.36              2003-01-07  \n",
       "8517      1577.53         826.51              2011-03-18  "
      ]
     },
     "execution_count": 85,
     "metadata": {},
     "output_type": "execute_result"
    }
   ],
   "source": [
    "#sampling dataset\n",
    "df_tran1.sample(3)"
   ]
  },
  {
   "cell_type": "markdown",
   "id": "591c6bcd-68ab-4501-a8d6-92a62985d193",
   "metadata": {},
   "source": [
    "🔽 **`order_status`**"
   ]
  },
  {
   "cell_type": "code",
   "execution_count": 86,
   "id": "1b3ce8f2-282b-461c-9a44-e9d0be5e2c4c",
   "metadata": {},
   "outputs": [
    {
     "data": {
      "text/html": [
       "<div>\n",
       "<style scoped>\n",
       "    .dataframe tbody tr th:only-of-type {\n",
       "        vertical-align: middle;\n",
       "    }\n",
       "\n",
       "    .dataframe tbody tr th {\n",
       "        vertical-align: top;\n",
       "    }\n",
       "\n",
       "    .dataframe thead th {\n",
       "        text-align: right;\n",
       "    }\n",
       "</style>\n",
       "<table border=\"1\" class=\"dataframe\">\n",
       "  <thead>\n",
       "    <tr style=\"text-align: right;\">\n",
       "      <th></th>\n",
       "      <th>transaction_id</th>\n",
       "      <th>product_id</th>\n",
       "      <th>customer_id</th>\n",
       "      <th>transaction_date</th>\n",
       "      <th>online_order</th>\n",
       "      <th>order_status</th>\n",
       "      <th>brand</th>\n",
       "      <th>product_line</th>\n",
       "      <th>product_class</th>\n",
       "      <th>product_size</th>\n",
       "      <th>list_price</th>\n",
       "      <th>standard_cost</th>\n",
       "      <th>product_first_sold_date</th>\n",
       "    </tr>\n",
       "  </thead>\n",
       "  <tbody>\n",
       "    <tr>\n",
       "      <th>7736</th>\n",
       "      <td>7737</td>\n",
       "      <td>49</td>\n",
       "      <td>2039</td>\n",
       "      <td>2017-05-01</td>\n",
       "      <td>False</td>\n",
       "      <td>Cancelled</td>\n",
       "      <td>Solex</td>\n",
       "      <td>Standard</td>\n",
       "      <td>medium</td>\n",
       "      <td>large</td>\n",
       "      <td>1061.56</td>\n",
       "      <td>733.58</td>\n",
       "      <td>2011-08-26</td>\n",
       "    </tr>\n",
       "    <tr>\n",
       "      <th>10627</th>\n",
       "      <td>10628</td>\n",
       "      <td>52</td>\n",
       "      <td>2936</td>\n",
       "      <td>2017-07-26</td>\n",
       "      <td>True</td>\n",
       "      <td>Cancelled</td>\n",
       "      <td>OHM Cycles</td>\n",
       "      <td>Road</td>\n",
       "      <td>medium</td>\n",
       "      <td>medium</td>\n",
       "      <td>1280.28</td>\n",
       "      <td>829.51</td>\n",
       "      <td>2013-09-18</td>\n",
       "    </tr>\n",
       "  </tbody>\n",
       "</table>\n",
       "</div>"
      ],
      "text/plain": [
       "       transaction_id  product_id  customer_id transaction_date online_order  \\\n",
       "7736             7737          49         2039       2017-05-01        False   \n",
       "10627           10628          52         2936       2017-07-26         True   \n",
       "\n",
       "      order_status       brand product_line product_class product_size  \\\n",
       "7736     Cancelled       Solex     Standard        medium        large   \n",
       "10627    Cancelled  OHM Cycles         Road        medium       medium   \n",
       "\n",
       "       list_price  standard_cost product_first_sold_date  \n",
       "7736      1061.56         733.58              2011-08-26  \n",
       "10627     1280.28         829.51              2013-09-18  "
      ]
     },
     "execution_count": 86,
     "metadata": {},
     "output_type": "execute_result"
    }
   ],
   "source": [
    "df_tran1[df_tran1['order_status']=='Cancelled'].sample(2)"
   ]
  },
  {
   "cell_type": "markdown",
   "id": "f44281f4-9840-46e4-a349-bcacbf05aae5",
   "metadata": {},
   "source": [
    "In the order_status column with the **Cancelled value**, it can be assumed that the **transaction was canceled so the company did not get revenue**. We decide to delete the data record that has the Cancelled value and then we drop the column. The data retrieved is the successful transaction data."
   ]
  },
  {
   "cell_type": "code",
   "execution_count": 87,
   "id": "3482e81b-25e2-4785-acc1-a5e4c38e9d38",
   "metadata": {},
   "outputs": [],
   "source": [
    "# deleting rows that order status is cancelled -> not generate revenue\n",
    "df_tran1 = df_tran1[df_tran1['order_status']!='Cancelled']"
   ]
  },
  {
   "cell_type": "code",
   "execution_count": 88,
   "id": "084790bb-d7d3-4df2-9b3f-50c67a3104e5",
   "metadata": {},
   "outputs": [],
   "source": [
    "# remove columns order status\n",
    "df_tran1.drop(columns=['order_status'], inplace=True)"
   ]
  },
  {
   "cell_type": "code",
   "execution_count": 89,
   "id": "6f1747f0-935c-410f-ad3c-35c1ace58600",
   "metadata": {},
   "outputs": [
    {
     "name": "stdout",
     "output_type": "stream",
     "text": [
      "<class 'pandas.core.frame.DataFrame'>\n",
      "Int64Index: 19273 entries, 0 to 19999\n",
      "Data columns (total 12 columns):\n",
      " #   Column                   Non-Null Count  Dtype         \n",
      "---  ------                   --------------  -----         \n",
      " 0   transaction_id           19273 non-null  int64         \n",
      " 1   product_id               19273 non-null  int64         \n",
      " 2   customer_id              19273 non-null  int64         \n",
      " 3   transaction_date         19273 non-null  datetime64[ns]\n",
      " 4   online_order             19273 non-null  object        \n",
      " 5   brand                    19273 non-null  object        \n",
      " 6   product_line             19273 non-null  object        \n",
      " 7   product_class            19273 non-null  object        \n",
      " 8   product_size             19273 non-null  object        \n",
      " 9   list_price               19273 non-null  float64       \n",
      " 10  standard_cost            19273 non-null  float64       \n",
      " 11  product_first_sold_date  19273 non-null  datetime64[ns]\n",
      "dtypes: datetime64[ns](2), float64(2), int64(3), object(5)\n",
      "memory usage: 1.9+ MB\n"
     ]
    }
   ],
   "source": [
    "df_tran1.info()"
   ]
  },
  {
   "cell_type": "markdown",
   "id": "d4476e91-c17f-4fe1-b37b-803462b673d2",
   "metadata": {},
   "source": [
    "The dataset has been cleared ✅"
   ]
  },
  {
   "cell_type": "markdown",
   "id": "52733966-72fa-4745-9254-307815be64c2",
   "metadata": {},
   "source": [
    "### 3. Save Clean Dataset"
   ]
  },
  {
   "cell_type": "code",
   "execution_count": 90,
   "id": "514ec3a1-705d-4b31-b2e6-eb3ba80bd351",
   "metadata": {},
   "outputs": [],
   "source": [
    "df_tran1.to_csv('Transaction_CLEAN.csv', index=False)"
   ]
  },
  {
   "cell_type": "markdown",
   "id": "578bf0c8-9e1d-4741-af91-36534758b227",
   "metadata": {},
   "source": [
    "Getting transaction data in the past three months."
   ]
  },
  {
   "cell_type": "code",
   "execution_count": 91,
   "id": "e2f9a295-8772-45a3-8b02-e1c5e7273655",
   "metadata": {},
   "outputs": [],
   "source": [
    "# sorting by latest date\n",
    "df_tran1 = df_tran1.sort_values(by='transaction_date', ascending=False)"
   ]
  },
  {
   "cell_type": "code",
   "execution_count": 92,
   "id": "056e1b5d-46bb-467c-af08-60e389e78ef0",
   "metadata": {},
   "outputs": [
    {
     "data": {
      "text/html": [
       "<div>\n",
       "<style scoped>\n",
       "    .dataframe tbody tr th:only-of-type {\n",
       "        vertical-align: middle;\n",
       "    }\n",
       "\n",
       "    .dataframe tbody tr th {\n",
       "        vertical-align: top;\n",
       "    }\n",
       "\n",
       "    .dataframe thead th {\n",
       "        text-align: right;\n",
       "    }\n",
       "</style>\n",
       "<table border=\"1\" class=\"dataframe\">\n",
       "  <thead>\n",
       "    <tr style=\"text-align: right;\">\n",
       "      <th></th>\n",
       "      <th>transaction_id</th>\n",
       "      <th>product_id</th>\n",
       "      <th>customer_id</th>\n",
       "      <th>transaction_date</th>\n",
       "      <th>online_order</th>\n",
       "      <th>brand</th>\n",
       "      <th>product_line</th>\n",
       "      <th>product_class</th>\n",
       "      <th>product_size</th>\n",
       "      <th>list_price</th>\n",
       "      <th>standard_cost</th>\n",
       "      <th>product_first_sold_date</th>\n",
       "    </tr>\n",
       "  </thead>\n",
       "  <tbody>\n",
       "    <tr>\n",
       "      <th>17393</th>\n",
       "      <td>17394</td>\n",
       "      <td>20</td>\n",
       "      <td>933</td>\n",
       "      <td>2017-12-30</td>\n",
       "      <td>False</td>\n",
       "      <td>Trek Bicycles</td>\n",
       "      <td>Standard</td>\n",
       "      <td>medium</td>\n",
       "      <td>small</td>\n",
       "      <td>1775.81</td>\n",
       "      <td>1580.47</td>\n",
       "      <td>1996-04-07</td>\n",
       "    </tr>\n",
       "    <tr>\n",
       "      <th>605</th>\n",
       "      <td>606</td>\n",
       "      <td>70</td>\n",
       "      <td>2878</td>\n",
       "      <td>2017-12-30</td>\n",
       "      <td>False</td>\n",
       "      <td>Trek Bicycles</td>\n",
       "      <td>Standard</td>\n",
       "      <td>high</td>\n",
       "      <td>medium</td>\n",
       "      <td>495.72</td>\n",
       "      <td>297.43</td>\n",
       "      <td>1999-07-28</td>\n",
       "    </tr>\n",
       "    <tr>\n",
       "      <th>5041</th>\n",
       "      <td>5042</td>\n",
       "      <td>90</td>\n",
       "      <td>1985</td>\n",
       "      <td>2017-12-30</td>\n",
       "      <td>False</td>\n",
       "      <td>Norco Bicycles</td>\n",
       "      <td>Standard</td>\n",
       "      <td>low</td>\n",
       "      <td>medium</td>\n",
       "      <td>363.01</td>\n",
       "      <td>290.41</td>\n",
       "      <td>1999-07-28</td>\n",
       "    </tr>\n",
       "    <tr>\n",
       "      <th>10904</th>\n",
       "      <td>10905</td>\n",
       "      <td>0</td>\n",
       "      <td>2659</td>\n",
       "      <td>2017-12-30</td>\n",
       "      <td>False</td>\n",
       "      <td>Solex</td>\n",
       "      <td>Standard</td>\n",
       "      <td>medium</td>\n",
       "      <td>medium</td>\n",
       "      <td>100.35</td>\n",
       "      <td>75.26</td>\n",
       "      <td>2004-01-18</td>\n",
       "    </tr>\n",
       "    <tr>\n",
       "      <th>410</th>\n",
       "      <td>411</td>\n",
       "      <td>62</td>\n",
       "      <td>3355</td>\n",
       "      <td>2017-12-30</td>\n",
       "      <td>False</td>\n",
       "      <td>Solex</td>\n",
       "      <td>Standard</td>\n",
       "      <td>medium</td>\n",
       "      <td>medium</td>\n",
       "      <td>478.16</td>\n",
       "      <td>298.72</td>\n",
       "      <td>1993-06-25</td>\n",
       "    </tr>\n",
       "    <tr>\n",
       "      <th>...</th>\n",
       "      <td>...</td>\n",
       "      <td>...</td>\n",
       "      <td>...</td>\n",
       "      <td>...</td>\n",
       "      <td>...</td>\n",
       "      <td>...</td>\n",
       "      <td>...</td>\n",
       "      <td>...</td>\n",
       "      <td>...</td>\n",
       "      <td>...</td>\n",
       "      <td>...</td>\n",
       "      <td>...</td>\n",
       "    </tr>\n",
       "    <tr>\n",
       "      <th>17007</th>\n",
       "      <td>17008</td>\n",
       "      <td>5</td>\n",
       "      <td>2293</td>\n",
       "      <td>2017-10-01</td>\n",
       "      <td>True</td>\n",
       "      <td>Trek Bicycles</td>\n",
       "      <td>Mountain</td>\n",
       "      <td>low</td>\n",
       "      <td>medium</td>\n",
       "      <td>574.64</td>\n",
       "      <td>459.71</td>\n",
       "      <td>2011-08-31</td>\n",
       "    </tr>\n",
       "    <tr>\n",
       "      <th>5293</th>\n",
       "      <td>5294</td>\n",
       "      <td>14</td>\n",
       "      <td>1332</td>\n",
       "      <td>2017-10-01</td>\n",
       "      <td>False</td>\n",
       "      <td>Trek Bicycles</td>\n",
       "      <td>Standard</td>\n",
       "      <td>medium</td>\n",
       "      <td>small</td>\n",
       "      <td>1386.84</td>\n",
       "      <td>1234.29</td>\n",
       "      <td>2010-05-07</td>\n",
       "    </tr>\n",
       "    <tr>\n",
       "      <th>414</th>\n",
       "      <td>415</td>\n",
       "      <td>76</td>\n",
       "      <td>2939</td>\n",
       "      <td>2017-10-01</td>\n",
       "      <td>True</td>\n",
       "      <td>WeareA2B</td>\n",
       "      <td>Standard</td>\n",
       "      <td>low</td>\n",
       "      <td>medium</td>\n",
       "      <td>642.31</td>\n",
       "      <td>513.85</td>\n",
       "      <td>1991-07-12</td>\n",
       "    </tr>\n",
       "    <tr>\n",
       "      <th>17350</th>\n",
       "      <td>17351</td>\n",
       "      <td>82</td>\n",
       "      <td>1247</td>\n",
       "      <td>2017-10-01</td>\n",
       "      <td>False</td>\n",
       "      <td>Norco Bicycles</td>\n",
       "      <td>Standard</td>\n",
       "      <td>high</td>\n",
       "      <td>medium</td>\n",
       "      <td>1148.64</td>\n",
       "      <td>689.18</td>\n",
       "      <td>2015-08-12</td>\n",
       "    </tr>\n",
       "    <tr>\n",
       "      <th>19847</th>\n",
       "      <td>19848</td>\n",
       "      <td>7</td>\n",
       "      <td>2907</td>\n",
       "      <td>2017-10-01</td>\n",
       "      <td>True</td>\n",
       "      <td>Giant Bicycles</td>\n",
       "      <td>Standard</td>\n",
       "      <td>medium</td>\n",
       "      <td>small</td>\n",
       "      <td>1311.44</td>\n",
       "      <td>1167.18</td>\n",
       "      <td>1992-10-13</td>\n",
       "    </tr>\n",
       "  </tbody>\n",
       "</table>\n",
       "<p>4893 rows × 12 columns</p>\n",
       "</div>"
      ],
      "text/plain": [
       "       transaction_id  product_id  customer_id transaction_date online_order  \\\n",
       "17393           17394          20          933       2017-12-30        False   \n",
       "605               606          70         2878       2017-12-30        False   \n",
       "5041             5042          90         1985       2017-12-30        False   \n",
       "10904           10905           0         2659       2017-12-30        False   \n",
       "410               411          62         3355       2017-12-30        False   \n",
       "...               ...         ...          ...              ...          ...   \n",
       "17007           17008           5         2293       2017-10-01         True   \n",
       "5293             5294          14         1332       2017-10-01        False   \n",
       "414               415          76         2939       2017-10-01         True   \n",
       "17350           17351          82         1247       2017-10-01        False   \n",
       "19847           19848           7         2907       2017-10-01         True   \n",
       "\n",
       "                brand product_line product_class product_size  list_price  \\\n",
       "17393   Trek Bicycles     Standard        medium        small     1775.81   \n",
       "605     Trek Bicycles     Standard          high       medium      495.72   \n",
       "5041   Norco Bicycles     Standard           low       medium      363.01   \n",
       "10904           Solex     Standard        medium       medium      100.35   \n",
       "410             Solex     Standard        medium       medium      478.16   \n",
       "...               ...          ...           ...          ...         ...   \n",
       "17007   Trek Bicycles     Mountain           low       medium      574.64   \n",
       "5293    Trek Bicycles     Standard        medium        small     1386.84   \n",
       "414          WeareA2B     Standard           low       medium      642.31   \n",
       "17350  Norco Bicycles     Standard          high       medium     1148.64   \n",
       "19847  Giant Bicycles     Standard        medium        small     1311.44   \n",
       "\n",
       "       standard_cost product_first_sold_date  \n",
       "17393        1580.47              1996-04-07  \n",
       "605           297.43              1999-07-28  \n",
       "5041          290.41              1999-07-28  \n",
       "10904          75.26              2004-01-18  \n",
       "410           298.72              1993-06-25  \n",
       "...              ...                     ...  \n",
       "17007         459.71              2011-08-31  \n",
       "5293         1234.29              2010-05-07  \n",
       "414           513.85              1991-07-12  \n",
       "17350         689.18              2015-08-12  \n",
       "19847        1167.18              1992-10-13  \n",
       "\n",
       "[4893 rows x 12 columns]"
      ]
     },
     "execution_count": 92,
     "metadata": {},
     "output_type": "execute_result"
    }
   ],
   "source": [
    "# filtering data in the past three months\n",
    "df_tran_latest = df_tran1[(df_tran1['transaction_date'] >= '2017-10-01') & (df_tran1['transaction_date'] <= '2017-12-30')]\n",
    "df_tran_latest"
   ]
  },
  {
   "cell_type": "code",
   "execution_count": 93,
   "id": "d6bcc873-a47b-4805-b482-c489462aef8a",
   "metadata": {},
   "outputs": [
    {
     "data": {
      "text/plain": [
       "17393   2017-12-30\n",
       "605     2017-12-30\n",
       "5041    2017-12-30\n",
       "10904   2017-12-30\n",
       "410     2017-12-30\n",
       "           ...    \n",
       "17007   2017-10-01\n",
       "5293    2017-10-01\n",
       "414     2017-10-01\n",
       "17350   2017-10-01\n",
       "19847   2017-10-01\n",
       "Name: transaction_date, Length: 4893, dtype: datetime64[ns]"
      ]
     },
     "execution_count": 93,
     "metadata": {},
     "output_type": "execute_result"
    }
   ],
   "source": [
    "# cheking date\n",
    "df_tran_latest['transaction_date']"
   ]
  },
  {
   "cell_type": "code",
   "execution_count": 94,
   "id": "0e2ea6be-ec1e-4689-b8d6-8223a13bce90",
   "metadata": {},
   "outputs": [],
   "source": [
    "# saving dataset\n",
    "df_tran_latest.to_csv('Transaction_3months_CLEAN.csv', index=False)"
   ]
  },
  {
   "cell_type": "code",
   "execution_count": 95,
   "id": "f2eddc6f-ccc2-484d-8964-d55ba2e9ea5c",
   "metadata": {},
   "outputs": [
    {
     "name": "stdout",
     "output_type": "stream",
     "text": [
      "<class 'pandas.core.frame.DataFrame'>\n",
      "Int64Index: 4893 entries, 17393 to 19847\n",
      "Data columns (total 12 columns):\n",
      " #   Column                   Non-Null Count  Dtype         \n",
      "---  ------                   --------------  -----         \n",
      " 0   transaction_id           4893 non-null   int64         \n",
      " 1   product_id               4893 non-null   int64         \n",
      " 2   customer_id              4893 non-null   int64         \n",
      " 3   transaction_date         4893 non-null   datetime64[ns]\n",
      " 4   online_order             4893 non-null   object        \n",
      " 5   brand                    4893 non-null   object        \n",
      " 6   product_line             4893 non-null   object        \n",
      " 7   product_class            4893 non-null   object        \n",
      " 8   product_size             4893 non-null   object        \n",
      " 9   list_price               4893 non-null   float64       \n",
      " 10  standard_cost            4893 non-null   float64       \n",
      " 11  product_first_sold_date  4893 non-null   datetime64[ns]\n",
      "dtypes: datetime64[ns](2), float64(2), int64(3), object(5)\n",
      "memory usage: 496.9+ KB\n"
     ]
    }
   ],
   "source": [
    "df_tran_latest.info()"
   ]
  },
  {
   "cell_type": "code",
   "execution_count": null,
   "id": "4aa4018c-6156-4878-a4a8-94127a37618e",
   "metadata": {},
   "outputs": [],
   "source": []
  }
 ],
 "metadata": {
  "kernelspec": {
   "display_name": "Python 3 (ipykernel)",
   "language": "python",
   "name": "python3"
  },
  "language_info": {
   "codemirror_mode": {
    "name": "ipython",
    "version": 3
   },
   "file_extension": ".py",
   "mimetype": "text/x-python",
   "name": "python",
   "nbconvert_exporter": "python",
   "pygments_lexer": "ipython3",
   "version": "3.9.15"
  }
 },
 "nbformat": 4,
 "nbformat_minor": 5
}
